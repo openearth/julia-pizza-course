{
 "cells": [
  {
   "cell_type": "markdown",
   "metadata": {},
   "source": [
    "# Unique features of Julia\n",
    "\n",
    "In the last part of this introduction, we will dive a little deeper into what makes Julia unique. The core concepts we will treat here are:\n",
    "\n",
    "- type system\n",
    "- functions and methods\n",
    "- multiple dispatch\n",
    "- composability\n",
    "\n",
    "\n",
    "## Links\n",
    "- Stefan Karpinski, The unreasonable effectiveness of multiple dispatch - https://youtu.be/kc9HwsxE1OY?t=65"
   ]
  },
  {
   "cell_type": "markdown",
   "metadata": {},
   "source": [
    "## Type system"
   ]
  },
  {
   "cell_type": "markdown",
   "metadata": {},
   "source": [
    "Julia has the notion of abstract types and concrete types. Concrete types are the only ones that can actually have instances, and can only subtype abstract types, which is used to inherit behavior, not structure."
   ]
  },
  {
   "cell_type": "code",
   "execution_count": 1,
   "metadata": {},
   "outputs": [
    {
     "name": "stdout",
     "output_type": "stream",
     "text": [
      "Float64 <: AbstractFloat <: Real <: Number <: Any\n",
      "Int64 <: Signed <: Integer <: Real <: Number <: Any"
     ]
    }
   ],
   "source": [
    "Base.show_supertypes(Float64)\n",
    "println()\n",
    "Base.show_supertypes(Int)"
   ]
  },
  {
   "cell_type": "code",
   "execution_count": 2,
   "metadata": {},
   "outputs": [],
   "source": [
    "# fine, but not very generic\n",
    "struct Point1\n",
    "    x::Float64\n",
    "    y::Float64\n",
    "end\n",
    "\n",
    "# slow, because Julia cannot reason about the contents\n",
    "struct Point2\n",
    "    x::Any\n",
    "    y  # nothing is the same as ::Any\n",
    "end\n",
    "\n",
    "# equally fast as Point1, but more generic\n",
    "struct Point3{T}\n",
    "    x::T\n",
    "    y::T\n",
    "end"
   ]
  },
  {
   "cell_type": "code",
   "execution_count": 3,
   "metadata": {},
   "outputs": [
    {
     "data": {
      "text/plain": [
       "true"
      ]
     },
     "execution_count": 3,
     "metadata": {},
     "output_type": "execute_result"
    }
   ],
   "source": [
    "p1 = Point1(1.1, -2.2)\n",
    "isbits(p1)"
   ]
  },
  {
   "cell_type": "code",
   "execution_count": 4,
   "metadata": {},
   "outputs": [
    {
     "data": {
      "text/plain": [
       "false"
      ]
     },
     "execution_count": 4,
     "metadata": {},
     "output_type": "execute_result"
    }
   ],
   "source": [
    "p2 = Point2(1.1, -2.2)\n",
    "isbits(p2)"
   ]
  },
  {
   "cell_type": "code",
   "execution_count": 5,
   "metadata": {},
   "outputs": [
    {
     "name": "stdout",
     "output_type": "stream",
     "text": [
      "isbits(p3) = true\n"
     ]
    },
    {
     "data": {
      "text/plain": [
       "Point3{Float64}(1.1, -2.2)"
      ]
     },
     "execution_count": 5,
     "metadata": {},
     "output_type": "execute_result"
    }
   ],
   "source": [
    "p3 = Point3(1.1, -2.2)\n",
    "@show isbits(p3)\n",
    "p3"
   ]
  },
  {
   "cell_type": "code",
   "execution_count": 6,
   "metadata": {},
   "outputs": [
    {
     "data": {
      "text/plain": [
       "Point3{Int64}(1, -2)"
      ]
     },
     "execution_count": 6,
     "metadata": {},
     "output_type": "execute_result"
    }
   ],
   "source": [
    "Point3(1, -2)"
   ]
  },
  {
   "cell_type": "markdown",
   "metadata": {},
   "source": [
    "## Functions and methods\n",
    "\n",
    "`+`, `abs` and `show` are examples of functions that are defined in the Julia Base library. A function can have many methods, which are functions that are defined for a specific set of input types. If you define your own type, it is common practice to add methods to existing functions, that tell julia how to apply a certain function to your types."
   ]
  },
  {
   "cell_type": "code",
   "execution_count": 7,
   "metadata": {},
   "outputs": [
    {
     "data": {
      "text/html": [
       "# 13 methods for generic function <b>abs</b>:<ul><li> abs(a::<b>Pkg.Resolve.FieldValue</b>) in Pkg.Resolve at <a href=\"file://D:/buildbot/worker/package_win64/build/usr/share/julia/stdlib/v1.4/Pkg/src/Resolve/fieldvalues.jl\" target=\"_blank\">c:\\bin\\julia-1.4\\share\\julia\\stdlib\\v1.4\\Pkg\\src\\Resolve\\fieldvalues.jl:61</a></li> <li> abs(a::<b>Pkg.Resolve.VersionWeight</b>) in Pkg.Resolve at <a href=\"file://D:/buildbot/worker/package_win64/build/usr/share/julia/stdlib/v1.4/Pkg/src/Resolve/versionweights.jl\" target=\"_blank\">c:\\bin\\julia-1.4\\share\\julia\\stdlib\\v1.4\\Pkg\\src\\Resolve\\versionweights.jl:36</a></li> <li> abs(::<b>Missing</b>) in Base at <a href=\"https://github.com/JuliaLang/julia/tree/44fa15b1502a45eac76c9017af94332d4557b251/base/missing.jl#L100\" target=\"_blank\">missing.jl:100</a></li> <li> abs(x::<b>Float64</b>) in Base at <a href=\"https://github.com/JuliaLang/julia/tree/44fa15b1502a45eac76c9017af94332d4557b251/base/float.jl#L528\" target=\"_blank\">float.jl:528</a></li> <li> abs(x::<b>Float32</b>) in Base at <a href=\"https://github.com/JuliaLang/julia/tree/44fa15b1502a45eac76c9017af94332d4557b251/base/float.jl#L527\" target=\"_blank\">float.jl:527</a></li> <li> abs(x::<b>Float16</b>) in Base at <a href=\"https://github.com/JuliaLang/julia/tree/44fa15b1502a45eac76c9017af94332d4557b251/base/float.jl#L526\" target=\"_blank\">float.jl:526</a></li> <li> abs(x::<b>Bool</b>) in Base at <a href=\"https://github.com/JuliaLang/julia/tree/44fa15b1502a45eac76c9017af94332d4557b251/base/bool.jl#L83\" target=\"_blank\">bool.jl:83</a></li> <li> abs(x::<b>Unsigned</b>) in Base at <a href=\"https://github.com/JuliaLang/julia/tree/44fa15b1502a45eac76c9017af94332d4557b251/base/int.jl#L135\" target=\"_blank\">int.jl:135</a></li> <li> abs(x::<b>Signed</b>) in Base at <a href=\"https://github.com/JuliaLang/julia/tree/44fa15b1502a45eac76c9017af94332d4557b251/base/int.jl#L136\" target=\"_blank\">int.jl:136</a></li> <li> abs(x::<b>Rational</b>) in Base at <a href=\"https://github.com/JuliaLang/julia/tree/44fa15b1502a45eac76c9017af94332d4557b251/base/rational.jl#L240\" target=\"_blank\">rational.jl:240</a></li> <li> abs(x::<b>Real</b>) in Base at <a href=\"https://github.com/JuliaLang/julia/tree/44fa15b1502a45eac76c9017af94332d4557b251/base/number.jl#L120\" target=\"_blank\">number.jl:120</a></li> <li> abs(z::<b>Complex</b>) in Base at <a href=\"https://github.com/JuliaLang/julia/tree/44fa15b1502a45eac76c9017af94332d4557b251/base/complex.jl#L264\" target=\"_blank\">complex.jl:264</a></li> <li> abs(a::<b>T</b>)<i> where T<:Dates.Period</i> in Dates at <a href=\"file://D:/buildbot/worker/package_win64/build/usr/share/julia/stdlib/v1.4/Dates/src/periods.jl\" target=\"_blank\">c:\\bin\\julia-1.4\\share\\julia\\stdlib\\v1.4\\Dates\\src\\periods.jl:95</a></li> </ul>"
      ],
      "text/plain": [
       "# 13 methods for generic function \"abs\":\n",
       "[1] abs(a::Pkg.Resolve.FieldValue) in Pkg.Resolve at c:\\bin\\julia-1.4\\share\\julia\\stdlib\\v1.4\\Pkg\\src\\Resolve\\fieldvalues.jl:61\n",
       "[2] abs(a::Pkg.Resolve.VersionWeight) in Pkg.Resolve at c:\\bin\\julia-1.4\\share\\julia\\stdlib\\v1.4\\Pkg\\src\\Resolve\\versionweights.jl:36\n",
       "[3] abs(::Missing) in Base at missing.jl:100\n",
       "[4] abs(x::Float64) in Base at float.jl:528\n",
       "[5] abs(x::Float32) in Base at float.jl:527\n",
       "[6] abs(x::Float16) in Base at float.jl:526\n",
       "[7] abs(x::Bool) in Base at bool.jl:83\n",
       "[8] abs(x::Unsigned) in Base at int.jl:135\n",
       "[9] abs(x::Signed) in Base at int.jl:136\n",
       "[10] abs(x::Rational) in Base at rational.jl:240\n",
       "[11] abs(x::Real) in Base at number.jl:120\n",
       "[12] abs(z::Complex) in Base at complex.jl:264\n",
       "[13] abs(a::T) where T<:Dates.Period in Dates at c:\\bin\\julia-1.4\\share\\julia\\stdlib\\v1.4\\Dates\\src\\periods.jl:95"
      ]
     },
     "execution_count": 7,
     "metadata": {},
     "output_type": "execute_result"
    }
   ],
   "source": [
    "# show all the methods defined for the cos function\n",
    "methods(abs)"
   ]
  },
  {
   "cell_type": "code",
   "execution_count": 8,
   "metadata": {},
   "outputs": [
    {
     "ename": "MethodError",
     "evalue": "MethodError: no method matching abs(::Point3{Float64})\nClosest candidates are:\n  abs(!Matched::Pkg.Resolve.FieldValue) at D:\\buildbot\\worker\\package_win64\\build\\usr\\share\\julia\\stdlib\\v1.4\\Pkg\\src\\Resolve\\fieldvalues.jl:61\n  abs(!Matched::Pkg.Resolve.VersionWeight) at D:\\buildbot\\worker\\package_win64\\build\\usr\\share\\julia\\stdlib\\v1.4\\Pkg\\src\\Resolve\\versionweights.jl:36\n  abs(!Matched::Missing) at missing.jl:100\n  ...",
     "output_type": "error",
     "traceback": [
      "MethodError: no method matching abs(::Point3{Float64})\nClosest candidates are:\n  abs(!Matched::Pkg.Resolve.FieldValue) at D:\\buildbot\\worker\\package_win64\\build\\usr\\share\\julia\\stdlib\\v1.4\\Pkg\\src\\Resolve\\fieldvalues.jl:61\n  abs(!Matched::Pkg.Resolve.VersionWeight) at D:\\buildbot\\worker\\package_win64\\build\\usr\\share\\julia\\stdlib\\v1.4\\Pkg\\src\\Resolve\\versionweights.jl:36\n  abs(!Matched::Missing) at missing.jl:100\n  ...",
      "",
      "Stacktrace:",
      " [1] top-level scope at In[8]:1"
     ]
    }
   ],
   "source": [
    "# julia does not yet know how to take the absolute value of a point\n",
    "abs(p3)"
   ]
  },
  {
   "cell_type": "code",
   "execution_count": 9,
   "metadata": {},
   "outputs": [],
   "source": [
    "# let's teach it how\n",
    "Base.abs(p::Point3) = Point3(abs(p.x), abs(p.y))"
   ]
  },
  {
   "cell_type": "code",
   "execution_count": 10,
   "metadata": {},
   "outputs": [
    {
     "data": {
      "text/plain": [
       "Point3{Float64}(1.1, 2.2)"
      ]
     },
     "execution_count": 10,
     "metadata": {},
     "output_type": "execute_result"
    }
   ],
   "source": [
    "abs(p3)"
   ]
  },
  {
   "cell_type": "markdown",
   "metadata": {},
   "source": [
    "## Multiple dispatch\n",
    "\n",
    "When a function is first called, Julia looks at the types of all input arguments, and will select the most specific method that applies. Then it will compile this method to native code, and then execute it. The second time that this method is called for the same types of input arguments, it will not have to compile again. Therefore you often see some latency on the first call to a method.\n",
    "\n",
    "In cases where you care about performance, it is always good to check if the Julia compiler can figure out the types. If it cannot, it will still work, but will often be much slower since it needs to do more work at runtime versus compilation time. For an overview of performance tips, see also https://docs.julialang.org/en/v1/manual/performance-tips/index.html."
   ]
  },
  {
   "cell_type": "markdown",
   "metadata": {},
   "source": [
    "We can use macros to look into the different steps in the compilation process:"
   ]
  },
  {
   "cell_type": "code",
   "execution_count": 11,
   "metadata": {},
   "outputs": [
    {
     "data": {
      "text/plain": [
       "CodeInfo(\n",
       "\u001b[90m1 ─\u001b[39m %1 = Base.getfield(p, :x)\u001b[36m::Float64\u001b[39m\n",
       "\u001b[90m│  \u001b[39m %2 = Base.abs_float(%1)\u001b[36m::Float64\u001b[39m\n",
       "\u001b[90m│  \u001b[39m %3 = Base.getfield(p, :y)\u001b[36m::Float64\u001b[39m\n",
       "\u001b[90m│  \u001b[39m %4 = Base.abs_float(%3)\u001b[36m::Float64\u001b[39m\n",
       "\u001b[90m│  \u001b[39m %5 = %new(Point3{Float64}, %2, %4)\u001b[36m::Point3{Float64}\u001b[39m\n",
       "\u001b[90m└──\u001b[39m      return %5\n",
       ") => Point3{Float64}"
      ]
     },
     "execution_count": 11,
     "metadata": {},
     "output_type": "execute_result"
    }
   ],
   "source": [
    "@code_typed abs(p3)"
   ]
  },
  {
   "cell_type": "code",
   "execution_count": 12,
   "metadata": {},
   "outputs": [
    {
     "name": "stdout",
     "output_type": "stream",
     "text": [
      "\t.text\n",
      "; ┌ @ In[9]:2 within `abs'\n",
      "\tpushq\t%rbp\n",
      "\tmovq\t%rsp, %rbp\n",
      "\tmovq\t%rcx, %rax\n",
      "; │ @ In[9]:2 within `abs' @ float.jl:528\n",
      "\tvmovups\t(%rdx), %xmm0\n",
      "\tmovabsq\t$457701712, %rcx        # imm = 0x1B47F950\n",
      "\tvandps\t(%rcx), %xmm0, %xmm0\n",
      "; │ @ In[9]:2 within `abs'\n",
      "\tvmovups\t%xmm0, (%rax)\n",
      "\tpopq\t%rbp\n",
      "\tretq\n",
      "\tnop\n",
      "; └\n"
     ]
    }
   ],
   "source": [
    "@code_native abs(p3)"
   ]
  },
  {
   "cell_type": "markdown",
   "metadata": {},
   "source": [
    "Since we wrote our `Point3` type in a generic way with type parameter `T` that can represent any type, our type will now automatically work together with other coordinate types. We demonstrate that here using the Measurements package to represent uncertainty."
   ]
  },
  {
   "cell_type": "code",
   "execution_count": 13,
   "metadata": {},
   "outputs": [
    {
     "name": "stderr",
     "output_type": "stream",
     "text": [
      "\u001b[32m\u001b[1m   Updating\u001b[22m\u001b[39m registry at `C:\\Users\\visser_mn\\.julia\\registries\\General`"
     ]
    },
    {
     "name": "stdout",
     "output_type": "stream",
     "text": [
      "\u001b[?25l"
     ]
    },
    {
     "name": "stderr",
     "output_type": "stream",
     "text": [
      "\n",
      "\u001b[32m\u001b[1m   Updating\u001b[22m\u001b[39m git-repo `https://github.com/JuliaRegistries/General.git`\n"
     ]
    },
    {
     "name": "stdout",
     "output_type": "stream",
     "text": [
      "    \u001b[36m\u001b[1mFetching:\u001b[22m\u001b[39m [>                                        ]  0.0 %\r",
      "    \u001b[36m\u001b[1mFetching:\u001b[22m\u001b[39m [========>                                ]  20.0 %\r",
      "    \u001b[36m\u001b[1mFetching:\u001b[22m\u001b[39m [================>                        ]  40.0 %\r",
      "    \u001b[36m\u001b[1mFetching:\u001b[22m\u001b[39m [========================>                ]  60.0 %\r",
      "    \u001b[36m\u001b[1mFetching:\u001b[22m\u001b[39m [================================>        ]  80.0 %\r",
      "    \u001b[36m\u001b[1mFetching:\u001b[22m\u001b[39m [========================================>]  100.0 %\r",
      "\u001b[2K\u001b[?25h"
     ]
    },
    {
     "name": "stderr",
     "output_type": "stream",
     "text": [
      "\u001b[32m\u001b[1m  Resolving\u001b[22m\u001b[39m package versions...\n",
      "\u001b[32m\u001b[1m   Updating\u001b[22m\u001b[39m `C:\\Users\\visser_mn\\.julia\\environments\\v1.4\\Project.toml`\n",
      "\u001b[90m [no changes]\u001b[39m\n",
      "\u001b[32m\u001b[1m   Updating\u001b[22m\u001b[39m `C:\\Users\\visser_mn\\.julia\\environments\\v1.4\\Manifest.toml`\n",
      "\u001b[90m [no changes]\u001b[39m\n"
     ]
    }
   ],
   "source": [
    "]add Measurements"
   ]
  },
  {
   "cell_type": "code",
   "execution_count": 14,
   "metadata": {},
   "outputs": [],
   "source": [
    "using Measurements"
   ]
  },
  {
   "cell_type": "code",
   "execution_count": 15,
   "metadata": {},
   "outputs": [
    {
     "data": {
      "text/plain": [
       "Point3{Measurement{Float64}}(1.1 ± 0.2, -2.2 ± 0.4)"
      ]
     },
     "execution_count": 15,
     "metadata": {},
     "output_type": "execute_result"
    }
   ],
   "source": [
    "# the plus minus ± symbol can be typed like \\pm<tab>\n",
    "uncertain_point = Point3(1.1 ± 0.2, -2.2 ± 0.4)"
   ]
  },
  {
   "cell_type": "code",
   "execution_count": 16,
   "metadata": {},
   "outputs": [
    {
     "data": {
      "text/plain": [
       "Point3{Measurement{Float64}}(1.1 ± 0.2, 2.2 ± 0.4)"
      ]
     },
     "execution_count": 16,
     "metadata": {},
     "output_type": "execute_result"
    }
   ],
   "source": [
    "abs(uncertain_point)"
   ]
  },
  {
   "cell_type": "markdown",
   "metadata": {},
   "source": [
    "## AbstractArrays\n",
    "\n",
    "One nice example of how the julia community makes use of these unique features, can be seen in the different array types that are available:\n",
    "\n",
    "- https://docs.julialang.org/en/v1/manual/interfaces/#man-interface-array-1\n",
    "- https://github.com/JuliaArrays\n",
    "- https://juliagpu.org/"
   ]
  }
 ],
 "metadata": {
  "kernelspec": {
   "display_name": "Julia 1.4.2",
   "language": "julia",
   "name": "julia-1.4"
  },
  "language_info": {
   "file_extension": ".jl",
   "mimetype": "application/julia",
   "name": "julia",
   "version": "1.4.2"
  }
 },
 "nbformat": 4,
 "nbformat_minor": 4
}
