{
 "cells": [
  {
   "cell_type": "markdown",
   "metadata": {},
   "source": [
    "# The Julia Package manager\n",
    "\n",
    "A key strength of Julia is that it is easy to reuse other peoples code. To facilitate this, Julia includes a package manager, named Pkg. Here are some of the things it does:\n",
    "\n",
    "- adding and removing packages\n",
    "- create project environments using Project.toml\n",
    "- allow fully reproducible projects using Manifest.toml\n",
    "- specifying compatibility with dependencies\n",
    "- facilitate developing packages\n",
    "\n",
    "## Links\n",
    "- Pkg documentation - https://julialang.github.io/Pkg.jl/v1/\n",
    "- BinaryBuilder, package binary dependencies - https://binarybuilder.org/\n",
    "- Package compiler, bundle relocatable projects - https://julialang.github.io/PackageCompiler.jl/dev/\n",
    "- General package registry - https://github.com/JuliaRegistries/General/\n",
    "- JuliaHub (beta), browse available packages - https://juliahub.com/\n",
    "- Julia Packages, browse available packages - https://juliapackages.com/"
   ]
  },
  {
   "cell_type": "markdown",
   "metadata": {},
   "source": [
    "## Adding and removing packages"
   ]
  },
  {
   "cell_type": "markdown",
   "metadata": {},
   "source": [
    "The most convenient way to use the package manager is to use the Pkg REPL-mode. To enter the Pkg REPL-mode in an interactive session, type `]` in the prompt. The prompt indicator will go from `julia>` to `pkg>`. In a Jupyter notebook, just start the cell with `]` for the same effect. Remember that with `]?` you can always get help on the Pkg REPL-mode, and `]?add` for specific help for `add`, or any other command."
   ]
  },
  {
   "cell_type": "code",
   "execution_count": 4,
   "metadata": {
    "execution": {
     "iopub.execute_input": "2020-05-23T17:12:54.003Z",
     "iopub.status.busy": "2020-05-23T17:12:52.886Z",
     "iopub.status.idle": "2020-05-23T17:12:55.216Z"
    },
    "jupyter": {
     "outputs_hidden": false,
     "source_hidden": false
    },
    "nteract": {
     "transient": {
      "deleting": false
     }
    },
    "outputExpanded": false
   },
   "outputs": [
    {
     "name": "stdout",
     "output_type": "stream",
     "text": [
      "  \u001b[1mWelcome to the Pkg REPL-mode\u001b[22m. To return to the \u001b[36mjulia>\u001b[39m prompt, either press\n",
      "  backspace when the input line is empty or press Ctrl+C.\n",
      "\n",
      "  \u001b[1mSynopsis\u001b[22m\n",
      "\n",
      "\u001b[36m  pkg> cmd [opts] [args]\u001b[39m\n",
      "\n",
      "  Multiple commands can be given on the same line by interleaving a \u001b[36m;\u001b[39m between\n",
      "  the commands. Some commands have an alias, indicated below.\n",
      "\n",
      "  \u001b[1mCommands\u001b[22m\n",
      "\n",
      "  \u001b[36mactivate\u001b[39m: set the primary environment the package manager manipulates\n",
      "\n",
      "  \u001b[36madd\u001b[39m: add packages to project\n",
      "\n",
      "  \u001b[36mbuild\u001b[39m: run the build script for packages\n",
      "\n",
      "  \u001b[36mdevelop\u001b[39m, \u001b[36mdev\u001b[39m: clone the full package repo locally for development\n",
      "\n",
      "  \u001b[36mfree\u001b[39m: undoes a \u001b[36mpin\u001b[39m, \u001b[36mdevelop\u001b[39m, or stops tracking a repo\n",
      "\n",
      "  \u001b[36mgc\u001b[39m: garbage collect packages not used for a significant time\n",
      "\n",
      "  \u001b[36mgenerate\u001b[39m: generate files for a new project\n",
      "\n",
      "  \u001b[36mhelp\u001b[39m, \u001b[36m?\u001b[39m: show this message\n",
      "\n",
      "  \u001b[36minstantiate\u001b[39m: downloads all the dependencies for the project\n",
      "\n",
      "  \u001b[36mpin\u001b[39m: pins the version of packages\n",
      "\n",
      "  \u001b[36mprecompile\u001b[39m: precompile all the project dependencies\n",
      "\n",
      "  \u001b[36mredo\u001b[39m: redo the latest change to the active project\n",
      "\n",
      "  \u001b[36mremove\u001b[39m, \u001b[36mrm\u001b[39m: remove packages from project or manifest\n",
      "\n",
      "  \u001b[36mresolve\u001b[39m: resolves to update the manifest from changes in dependencies of\n",
      "  developed packages\n",
      "\n",
      "  \u001b[36mstatus\u001b[39m, \u001b[36mst\u001b[39m: summarize contents of and changes to environment\n",
      "\n",
      "  \u001b[36mtest\u001b[39m: run tests for packages\n",
      "\n",
      "  \u001b[36mundo\u001b[39m: undo the latest change to the active project\n",
      "\n",
      "  \u001b[36mupdate\u001b[39m, \u001b[36mup\u001b[39m: update packages in manifest\n",
      "\n",
      "  \u001b[36mregistry add\u001b[39m: add package registries\n",
      "\n",
      "  \u001b[36mregistry remove\u001b[39m, \u001b[36mrm\u001b[39m: remove package registries\n",
      "\n",
      "  \u001b[36mregistry status\u001b[39m, \u001b[36mst\u001b[39m: information about installed registries\n",
      "\n",
      "  \u001b[36mregistry update\u001b[39m, \u001b[36mup\u001b[39m: update package registries"
     ]
    }
   ],
   "source": [
    "]?"
   ]
  },
  {
   "cell_type": "markdown",
   "metadata": {},
   "source": [
    "You can add packages to your current environment using `]add Example`. It is also possible to add multiple packages at the same time, or specify a desired version. By default it will add the most recent version that is compatible with the packages that are already installed."
   ]
  },
  {
   "cell_type": "code",
   "execution_count": 23,
   "metadata": {},
   "outputs": [
    {
     "name": "stderr",
     "output_type": "stream",
     "text": [
      "\u001b[32m\u001b[1m  Resolving\u001b[22m\u001b[39m package versions...\n",
      "\u001b[32m\u001b[1mNo Changes\u001b[22m\u001b[39m to `C:\\Users\\visser_mn\\.julia\\environments\\v1.5\\Project.toml`\n",
      "\u001b[32m\u001b[1mNo Changes\u001b[22m\u001b[39m to `C:\\Users\\visser_mn\\.julia\\environments\\v1.5\\Manifest.toml`\n"
     ]
    }
   ],
   "source": [
    "]add Example UnicodePlots"
   ]
  },
  {
   "cell_type": "markdown",
   "metadata": {},
   "source": [
    "When packages are added to an environment, they can directly be used. The first time a (new version of a) package is loaded, it will precompile the code, to make it faster to load in the future. If you want, you can also force this to happen for all packages using `]precompile`."
   ]
  },
  {
   "cell_type": "code",
   "execution_count": 11,
   "metadata": {},
   "outputs": [
    {
     "name": "stderr",
     "output_type": "stream",
     "text": [
      "┌ Info: Precompiling UnicodePlots [b8865327-cd53-5732-bb35-84acbb429228]\n",
      "└ @ Base loading.jl:1278\n"
     ]
    }
   ],
   "source": [
    "using UnicodePlots"
   ]
  },
  {
   "cell_type": "markdown",
   "metadata": {},
   "source": [
    "[UnicodePlots](https://github.com/Evizero/UnicodePlots.jl) is a fun package, which allows making plots composed entirely of text characters. We can try it out by generating 10 thousand normally distributed random numbers, and making a histogram."
   ]
  },
  {
   "cell_type": "code",
   "execution_count": 22,
   "metadata": {},
   "outputs": [
    {
     "data": {
      "text/plain": [
       "\u001b[90m                ┌                                        ┐\u001b[39m \n",
       "   \u001b[0m\u001b[90m[\u001b[0m-4.5\u001b[90m, \u001b[0m-4.0\u001b[90m)\u001b[0m\u001b[90m ┤\u001b[39m\u001b[0m 1                                      \u001b[90m \u001b[39m \n",
       "   \u001b[0m\u001b[90m[\u001b[0m-4.0\u001b[90m, \u001b[0m-3.5\u001b[90m)\u001b[0m\u001b[90m ┤\u001b[39m\u001b[0m 2                                      \u001b[90m \u001b[39m \n",
       "   \u001b[0m\u001b[90m[\u001b[0m-3.5\u001b[90m, \u001b[0m-3.0\u001b[90m)\u001b[0m\u001b[90m ┤\u001b[39m\u001b[0m 12                                     \u001b[90m \u001b[39m \n",
       "   \u001b[0m\u001b[90m[\u001b[0m-3.0\u001b[90m, \u001b[0m-2.5\u001b[90m)\u001b[0m\u001b[90m ┤\u001b[39m\u001b[32m▇\u001b[39m\u001b[0m 53                                    \u001b[90m \u001b[39m \n",
       "   \u001b[0m\u001b[90m[\u001b[0m-2.5\u001b[90m, \u001b[0m-2.0\u001b[90m)\u001b[0m\u001b[90m ┤\u001b[39m\u001b[32m▇▇▇\u001b[39m\u001b[0m 180                                 \u001b[90m \u001b[39m \n",
       "   \u001b[0m\u001b[90m[\u001b[0m-2.0\u001b[90m, \u001b[0m-1.5\u001b[90m)\u001b[0m\u001b[90m ┤\u001b[39m\u001b[32m▇▇▇▇▇▇▇\u001b[39m\u001b[0m 421                             \u001b[90m \u001b[39m \n",
       "   \u001b[0m\u001b[90m[\u001b[0m-1.5\u001b[90m, \u001b[0m-1.0\u001b[90m)\u001b[0m\u001b[90m ┤\u001b[39m\u001b[32m▇▇▇▇▇▇▇▇▇▇▇▇▇▇▇▇▇\u001b[39m\u001b[0m 957                   \u001b[90m \u001b[39m \n",
       "   \u001b[0m\u001b[90m[\u001b[0m-1.0\u001b[90m, \u001b[0m-0.5\u001b[90m)\u001b[0m\u001b[90m ┤\u001b[39m\u001b[32m▇▇▇▇▇▇▇▇▇▇▇▇▇▇▇▇▇▇▇▇▇▇▇▇▇\u001b[39m\u001b[0m 1419          \u001b[90m \u001b[39m \n",
       "   \u001b[0m\u001b[90m[\u001b[0m-0.5\u001b[90m, \u001b[0m 0.0\u001b[90m)\u001b[0m\u001b[90m ┤\u001b[39m\u001b[32m▇▇▇▇▇▇▇▇▇▇▇▇▇▇▇▇▇▇▇▇▇▇▇▇▇▇▇▇▇▇▇▇▇\u001b[39m\u001b[0m 1906  \u001b[90m \u001b[39m \n",
       "   \u001b[0m\u001b[90m[\u001b[0m 0.0\u001b[90m, \u001b[0m 0.5\u001b[90m)\u001b[0m\u001b[90m ┤\u001b[39m\u001b[32m▇▇▇▇▇▇▇▇▇▇▇▇▇▇▇▇▇▇▇▇▇▇▇▇▇▇▇▇▇▇▇▇▇▇\u001b[39m\u001b[0m 1959 \u001b[90m \u001b[39m \n",
       "   \u001b[0m\u001b[90m[\u001b[0m 0.5\u001b[90m, \u001b[0m 1.0\u001b[90m)\u001b[0m\u001b[90m ┤\u001b[39m\u001b[32m▇▇▇▇▇▇▇▇▇▇▇▇▇▇▇▇▇▇▇▇▇▇▇▇▇▇\u001b[39m\u001b[0m 1523         \u001b[90m \u001b[39m \n",
       "   \u001b[0m\u001b[90m[\u001b[0m 1.0\u001b[90m, \u001b[0m 1.5\u001b[90m)\u001b[0m\u001b[90m ┤\u001b[39m\u001b[32m▇▇▇▇▇▇▇▇▇▇▇▇▇▇▇\u001b[39m\u001b[0m 875                     \u001b[90m \u001b[39m \n",
       "   \u001b[0m\u001b[90m[\u001b[0m 1.5\u001b[90m, \u001b[0m 2.0\u001b[90m)\u001b[0m\u001b[90m ┤\u001b[39m\u001b[32m▇▇▇▇▇▇▇▇\u001b[39m\u001b[0m 456                            \u001b[90m \u001b[39m \n",
       "   \u001b[0m\u001b[90m[\u001b[0m 2.0\u001b[90m, \u001b[0m 2.5\u001b[90m)\u001b[0m\u001b[90m ┤\u001b[39m\u001b[32m▇▇▇\u001b[39m\u001b[0m 170                                 \u001b[90m \u001b[39m \n",
       "   \u001b[0m\u001b[90m[\u001b[0m 2.5\u001b[90m, \u001b[0m 3.0\u001b[90m)\u001b[0m\u001b[90m ┤\u001b[39m\u001b[32m▇\u001b[39m\u001b[0m 53                                    \u001b[90m \u001b[39m \n",
       "   \u001b[0m\u001b[90m[\u001b[0m 3.0\u001b[90m, \u001b[0m 3.5\u001b[90m)\u001b[0m\u001b[90m ┤\u001b[39m\u001b[0m 12                                     \u001b[90m \u001b[39m \n",
       "   \u001b[0m\u001b[90m[\u001b[0m 3.5\u001b[90m, \u001b[0m 4.0\u001b[90m)\u001b[0m\u001b[90m ┤\u001b[39m\u001b[0m 1                                      \u001b[90m \u001b[39m \n",
       "\u001b[90m                └                                        ┘\u001b[39m \n",
       "\u001b[0m                                Frequency"
      ]
     },
     "execution_count": 22,
     "metadata": {},
     "output_type": "execute_result"
    }
   ],
   "source": [
    "histogram(randn(10_000))"
   ]
  },
  {
   "cell_type": "markdown",
   "metadata": {},
   "source": [
    "Note that packages can rely on binaries. This is integrated into the design of Pkg, to provide a smooth installation experience. So, for example, people installing the Julia wrapper for the GDAL library, will automatically download a compatible GDAL installation compiled for their system. This is not installed globally, so will not interfere with the rest of the system. See https://binarybuilder.org/ to learn more about how this system works."
   ]
  },
  {
   "cell_type": "markdown",
   "metadata": {},
   "source": [
    "## Working with environments\n",
    "\n",
    "When collaborating on a project, you want it to work the same on everyones computer. However, the default environment probably looks different for everybody, depending on the packages they have installed. This can mean not everyone has the same version of packages your project depends on. Not great for reproducible science!\n",
    "\n",
    "Luckily Julia's package manager has the concept of environments. They can be created using `]activate path`, where path is the directory where the project is located, so `]activate .` creates an environment in the current directory."
   ]
  },
  {
   "cell_type": "code",
   "execution_count": 40,
   "metadata": {},
   "outputs": [
    {
     "name": "stderr",
     "output_type": "stream",
     "text": [
      "\u001b[32m\u001b[1m Activating\u001b[22m\u001b[39m new environment at `D:\\repo\\julia\\julia-pizza-course\\MyJuliaProject\\Project.toml`\n"
     ]
    }
   ],
   "source": [
    "]activate MyJuliaProject"
   ]
  },
  {
   "cell_type": "markdown",
   "metadata": {},
   "source": [
    "Now you can add packages that your project relies on. Note that if the same version of the package is already installed on your computer, for instance in another environment, it will use the same copy, to save space."
   ]
  },
  {
   "cell_type": "code",
   "execution_count": 44,
   "metadata": {},
   "outputs": [
    {
     "name": "stderr",
     "output_type": "stream",
     "text": [
      "\u001b[32m\u001b[1m  Resolving\u001b[22m\u001b[39m package versions...\n",
      "\u001b[32m\u001b[1mNo Changes\u001b[22m\u001b[39m to `D:\\repo\\julia\\julia-pizza-course\\MyJuliaProject\\Project.toml`\n",
      "\u001b[32m\u001b[1mNo Changes\u001b[22m\u001b[39m to `D:\\repo\\julia\\julia-pizza-course\\MyJuliaProject\\Manifest.toml`\n"
     ]
    }
   ],
   "source": [
    "]add Example"
   ]
  },
  {
   "cell_type": "markdown",
   "metadata": {},
   "source": [
    "To see the packages added to your current environment, use `]status`."
   ]
  },
  {
   "cell_type": "code",
   "execution_count": 46,
   "metadata": {},
   "outputs": [
    {
     "name": "stdout",
     "output_type": "stream",
     "text": [
      "\u001b[32m\u001b[1mStatus\u001b[22m\u001b[39m `D:\\repo\\julia\\julia-pizza-course\\MyJuliaProject\\Project.toml`\n",
      " \u001b[90m [336ed68f] \u001b[39m\u001b[37mCSV v0.6.2\u001b[39m\n",
      " \u001b[90m [7876af07] \u001b[39m\u001b[37mExample v0.5.3\u001b[39m\n"
     ]
    }
   ],
   "source": [
    "]status"
   ]
  },
  {
   "cell_type": "markdown",
   "metadata": {},
   "source": [
    "The state of your environment is captured in two files, the `Project.toml` and `Manifest.toml` files. We can print out their contents below."
   ]
  },
  {
   "cell_type": "code",
   "execution_count": 54,
   "metadata": {},
   "outputs": [
    {
     "name": "stdout",
     "output_type": "stream",
     "text": [
      "[deps]\n",
      "CSV = \"336ed68f-0bac-5ca0-87d4-7b16caf5d00b\"\n",
      "Example = \"7876af07-990d-54b4-ab0e-23690620f79a\"\n",
      "\n"
     ]
    }
   ],
   "source": [
    "println(read(\"MyJuliaProject/Project.toml\", String))"
   ]
  },
  {
   "cell_type": "code",
   "execution_count": 55,
   "metadata": {},
   "outputs": [
    {
     "name": "stdout",
     "output_type": "stream",
     "text": [
      "# This file is machine-generated - editing it directly is not advised\n",
      "\n",
      "[[Base64]]\n",
      "uuid = \"2a0f44e3-6c83-55bd-87e4-b1978d98bd5f\"\n",
      "\n",
      "[[CSV]]\n",
      "deps = [\"CategoricalArrays\", \"DataFrames\", \"Dates\", \"FilePathsBase\", \"Mmap\", \"Parsers\", \"PooledArrays\", \"Tables\", \"Unicode\", \"WeakRefStrings\"]\n",
      "git-tree-sha1 = \"52a8e60c7822f53d57e4403b7f2811e7e1bdd32b\"\n",
      "uuid = \"336ed68f-0bac-5ca0-87d4-7b16caf5d00b\"\n",
      "version = \"0.6.2\"\n",
      "\n",
      "[[CategoricalArrays]]\n",
      "deps = [\"DataAPI\", \"Future\", \"JSON\", \"Missings\", \"Printf\", \"Statistics\", \"Unicode\"]\n",
      "git-tree-sha1 = \"a6c17353ee38ddab30e73dcfaa1107752de724ec\"\n",
      "uuid = \"324d7699-5711-5eae-9e2f-1d82baa6b597\"\n",
      "version = \"0.8.1\"\n",
      "\n",
      "[[Compat]]\n",
      "deps = [\"Base64\", \"Dates\", \"DelimitedFiles\", \"Distributed\", \"InteractiveUtils\", \"LibGit2\", \"Libdl\", \"LinearAlgebra\", \"Markdown\", \"Mmap\", \"Pkg\", \"Printf\", \"REPL\", \"Random\", \"SHA\", \"Serialization\", \"SharedArrays\", \"Sockets\", \"SparseArrays\", \"Statistics\", \"Test\", \"UUIDs\", \"Unicode\"]\n",
      "git-tree-sha1 = \"48c20c43e157c6eab6cf88326504ec042b05e456\"\n",
      "uuid = \"34da2185-b29b-5c13-b0c7-acf172513d20\"\n",
      "version = \"3.10.0\"\n",
      "\n",
      "[[DataAPI]]\n",
      "git-tree-sha1 = \"176e23402d80e7743fc26c19c681bfb11246af32\"\n",
      "uuid = \"9a962f9c-6df0-11e9-0e5d-c546b8b5ee8a\"\n",
      "version = \"1.3.0\"\n",
      "\n",
      "[[DataFrames]]\n",
      "deps = [\"CategoricalArrays\", \"Compat\", \"DataAPI\", \"Future\", \"InvertedIndices\", \"IteratorInterfaceExtensions\", \"Missings\", \"PooledArrays\", \"Printf\", \"REPL\", \"Reexport\", \"SortingAlgorithms\", \"Statistics\", \"TableTraits\", \"Tables\", \"Unicode\"]\n",
      "git-tree-sha1 = \"a3b230f7c0db4ce95d14d2026777e27c1b0f63db\"\n",
      "uuid = \"a93c6f00-e57d-5684-b7b6-d8193f3e46c0\"\n",
      "version = \"0.21.1\"\n",
      "\n",
      "[[DataStructures]]\n",
      "deps = [\"InteractiveUtils\", \"OrderedCollections\"]\n",
      "git-tree-sha1 = \"af6d9c86e191c917c2276fbede1137e8ea20157f\"\n",
      "uuid = \"864edb3b-99cc-5e75-8d2d-829cb0a9cfe8\"\n",
      "version = \"0.17.17\"\n",
      "\n",
      "[[DataValueInterfaces]]\n",
      "git-tree-sha1 = \"bfc1187b79289637fa0ef6d4436ebdfe6905cbd6\"\n",
      "uuid = \"e2d170a0-9d28-54be-80f0-106bbe20a464\"\n",
      "version = \"1.0.0\"\n",
      "\n",
      "[[Dates]]\n",
      "deps = [\"Printf\"]\n",
      "uuid = \"ade2ca70-3891-5945-98fb-dc099432e06a\"\n",
      "\n",
      "[[DelimitedFiles]]\n",
      "deps = [\"Mmap\"]\n",
      "uuid = \"8bb1440f-4735-579b-a4ab-409b98df4dab\"\n",
      "\n",
      "[[Distributed]]\n",
      "deps = [\"Random\", \"Serialization\", \"Sockets\"]\n",
      "uuid = \"8ba89e20-285c-5b6f-9357-94700520ee1b\"\n",
      "\n",
      "[[Example]]\n",
      "git-tree-sha1 = \"46e44e869b4d90b96bd8ed1fdcf32244fddfb6cc\"\n",
      "uuid = \"7876af07-990d-54b4-ab0e-23690620f79a\"\n",
      "version = \"0.5.3\"\n",
      "\n",
      "[[FilePathsBase]]\n",
      "deps = [\"Dates\", \"LinearAlgebra\", \"Printf\", \"Test\", \"UUIDs\"]\n",
      "git-tree-sha1 = \"923fd3b942a11712435682eaa95cc8518c428b2c\"\n",
      "uuid = \"48062228-2e41-5def-b9a4-89aafe57970f\"\n",
      "version = \"0.8.0\"\n",
      "\n",
      "[[Future]]\n",
      "deps = [\"Random\"]\n",
      "uuid = \"9fa8497b-333b-5362-9e8d-4d0656e87820\"\n",
      "\n",
      "[[InteractiveUtils]]\n",
      "deps = [\"Markdown\"]\n",
      "uuid = \"b77e0a4c-d291-57a0-90e8-8db25a27a240\"\n",
      "\n",
      "[[InvertedIndices]]\n",
      "deps = [\"Test\"]\n",
      "git-tree-sha1 = \"15732c475062348b0165684ffe28e85ea8396afc\"\n",
      "uuid = \"41ab1584-1d38-5bbf-9106-f11c6c58b48f\"\n",
      "version = \"1.0.0\"\n",
      "\n",
      "[[IteratorInterfaceExtensions]]\n",
      "git-tree-sha1 = \"a3f24677c21f5bbe9d2a714f95dcd58337fb2856\"\n",
      "uuid = \"82899510-4779-5014-852e-03e436cf321d\"\n",
      "version = \"1.0.0\"\n",
      "\n",
      "[[JSON]]\n",
      "deps = [\"Dates\", \"Mmap\", \"Parsers\", \"Unicode\"]\n",
      "git-tree-sha1 = \"b34d7cef7b337321e97d22242c3c2b91f476748e\"\n",
      "uuid = \"682c06a0-de6a-54ab-a142-c8b1cf79cde6\"\n",
      "version = \"0.21.0\"\n",
      "\n",
      "[[LibGit2]]\n",
      "deps = [\"Printf\"]\n",
      "uuid = \"76f85450-5226-5b5a-8eaa-529ad045b433\"\n",
      "\n",
      "[[Libdl]]\n",
      "uuid = \"8f399da3-3557-5675-b5ff-fb832c97cbdb\"\n",
      "\n",
      "[[LinearAlgebra]]\n",
      "deps = [\"Libdl\"]\n",
      "uuid = \"37e2e46d-f89d-539d-b4ee-838fcccc9c8e\"\n",
      "\n",
      "[[Logging]]\n",
      "uuid = \"56ddb016-857b-54e1-b83d-db4d58db5568\"\n",
      "\n",
      "[[Markdown]]\n",
      "deps = [\"Base64\"]\n",
      "uuid = \"d6f4376e-aef5-505a-96c1-9c027394607a\"\n",
      "\n",
      "[[Missings]]\n",
      "deps = [\"DataAPI\"]\n",
      "git-tree-sha1 = \"de0a5ce9e5289f27df672ffabef4d1e5861247d5\"\n",
      "uuid = \"e1d29d7a-bbdc-5cf2-9ac0-f12de2c33e28\"\n",
      "version = \"0.4.3\"\n",
      "\n",
      "[[Mmap]]\n",
      "uuid = \"a63ad114-7e13-5084-954f-fe012c677804\"\n",
      "\n",
      "[[OrderedCollections]]\n",
      "git-tree-sha1 = \"12ce190210d278e12644bcadf5b21cbdcf225cd3\"\n",
      "uuid = \"bac558e1-5e72-5ebc-8fee-abe8a469f55d\"\n",
      "version = \"1.2.0\"\n",
      "\n",
      "[[Parsers]]\n",
      "deps = [\"Dates\", \"Test\"]\n",
      "git-tree-sha1 = \"f0abb338b4d00306500056a3fd44c221b8473ef2\"\n",
      "uuid = \"69de0a69-1ddd-5017-9359-2bf0b02dc9f0\"\n",
      "version = \"1.0.4\"\n",
      "\n",
      "[[Pkg]]\n",
      "deps = [\"Dates\", \"LibGit2\", \"Libdl\", \"Logging\", \"Markdown\", \"Printf\", \"REPL\", \"Random\", \"SHA\", \"UUIDs\"]\n",
      "uuid = \"44cfe95a-1eb2-52ea-b672-e2afdf69b78f\"\n",
      "\n",
      "[[PooledArrays]]\n",
      "deps = [\"DataAPI\"]\n",
      "git-tree-sha1 = \"b1333d4eced1826e15adbdf01a4ecaccca9d353c\"\n",
      "uuid = \"2dfb63ee-cc39-5dd5-95bd-886bf059d720\"\n",
      "version = \"0.5.3\"\n",
      "\n",
      "[[Printf]]\n",
      "deps = [\"Unicode\"]\n",
      "uuid = \"de0858da-6303-5e67-8744-51eddeeeb8d7\"\n",
      "\n",
      "[[REPL]]\n",
      "deps = [\"InteractiveUtils\", \"Markdown\", \"Sockets\"]\n",
      "uuid = \"3fa0cd96-eef1-5676-8a61-b3b8758bbffb\"\n",
      "\n",
      "[[Random]]\n",
      "deps = [\"Serialization\"]\n",
      "uuid = \"9a3f8284-a2c9-5f02-9a11-845980a1fd5c\"\n",
      "\n",
      "[[Reexport]]\n",
      "deps = [\"Pkg\"]\n",
      "git-tree-sha1 = \"7b1d07f411bc8ddb7977ec7f377b97b158514fe0\"\n",
      "uuid = \"189a3867-3050-52da-a836-e630ba90ab69\"\n",
      "version = \"0.2.0\"\n",
      "\n",
      "[[SHA]]\n",
      "uuid = \"ea8e919c-243c-51af-8825-aaa63cd721ce\"\n",
      "\n",
      "[[Serialization]]\n",
      "uuid = \"9e88b42a-f829-5b0c-bbe9-9e923198166b\"\n",
      "\n",
      "[[SharedArrays]]\n",
      "deps = [\"Distributed\", \"Mmap\", \"Random\", \"Serialization\"]\n",
      "uuid = \"1a1011a3-84de-559e-8e89-a11a2f7dc383\"\n",
      "\n",
      "[[Sockets]]\n",
      "uuid = \"6462fe0b-24de-5631-8697-dd941f90decc\"\n",
      "\n",
      "[[SortingAlgorithms]]\n",
      "deps = [\"DataStructures\", \"Random\", \"Test\"]\n",
      "git-tree-sha1 = \"03f5898c9959f8115e30bc7226ada7d0df554ddd\"\n",
      "uuid = \"a2af1166-a08f-5f64-846c-94a0d3cef48c\"\n",
      "version = \"0.3.1\"\n",
      "\n",
      "[[SparseArrays]]\n",
      "deps = [\"LinearAlgebra\", \"Random\"]\n",
      "uuid = \"2f01184e-e22b-5df5-ae63-d93ebab69eaf\"\n",
      "\n",
      "[[Statistics]]\n",
      "deps = [\"LinearAlgebra\", \"SparseArrays\"]\n",
      "uuid = \"10745b16-79ce-11e8-11f9-7d13ad32a3b2\"\n",
      "\n",
      "[[TableTraits]]\n",
      "deps = [\"IteratorInterfaceExtensions\"]\n",
      "git-tree-sha1 = \"b1ad568ba658d8cbb3b892ed5380a6f3e781a81e\"\n",
      "uuid = \"3783bdb8-4a98-5b6b-af9a-565f29a5fe9c\"\n",
      "version = \"1.0.0\"\n",
      "\n",
      "[[Tables]]\n",
      "deps = [\"DataAPI\", \"DataValueInterfaces\", \"IteratorInterfaceExtensions\", \"LinearAlgebra\", \"TableTraits\", \"Test\"]\n",
      "git-tree-sha1 = \"c45dcc27331febabc20d86cb3974ef095257dcf3\"\n",
      "uuid = \"bd369af6-aec1-5ad0-b16a-f7cc5008161c\"\n",
      "version = \"1.0.4\"\n",
      "\n",
      "[[Test]]\n",
      "deps = [\"Distributed\", \"InteractiveUtils\", \"Logging\", \"Random\"]\n",
      "uuid = \"8dfed614-e22c-5e08-85e1-65c5234f0b40\"\n",
      "\n",
      "[[UUIDs]]\n",
      "deps = [\"Random\", \"SHA\"]\n",
      "uuid = \"cf7118a7-6976-5b1a-9a39-7adc72f591a4\"\n",
      "\n",
      "[[Unicode]]\n",
      "uuid = \"4ec0a83e-493e-50e2-b9ac-8f72acf5a8f5\"\n",
      "\n",
      "[[WeakRefStrings]]\n",
      "deps = [\"DataAPI\", \"Random\", \"Test\"]\n",
      "git-tree-sha1 = \"28807f85197eaad3cbd2330386fac1dcb9e7e11d\"\n",
      "uuid = \"ea10d353-3f73-51f8-a26c-33c1cb351aa5\"\n",
      "version = \"0.6.2\"\n",
      "\n"
     ]
    }
   ],
   "source": [
    "println(read(\"MyJuliaProject/Manifest.toml\", String))"
   ]
  },
  {
   "cell_type": "markdown",
   "metadata": {},
   "source": [
    "In short, the `Project.toml` file lists the dependencies under a `[deps]` section. It also supports other entries that can be added manually, for instance to add metadata or specify compatibility. The `Manifest.toml` specifies exactly which versions of both direct and indirect dependencies are used. If you share a `Manifest.toml` with someone, and someone uses `]instantiate` on it, they will be able to run your project with exactly the same dependencies.\n",
    "\n",
    "More information can be found in these chapters of the documentation:\n",
    "- https://julialang.github.io/Pkg.jl/v1/environments/\n",
    "- https://julialang.github.io/Pkg.jl/v1/toml-files/\n",
    "- https://julialang.github.io/Pkg.jl/v1/compatibility/"
   ]
  }
 ],
 "metadata": {
  "kernel_info": {
   "name": "julia-1.5"
  },
  "kernelspec": {
   "display_name": "Julia 1.5.0-DEV",
   "language": "julia",
   "name": "julia-1.5"
  },
  "language_info": {
   "file_extension": ".jl",
   "mimetype": "application/julia",
   "name": "julia",
   "version": "1.5.0"
  },
  "nteract": {
   "version": "0.23.1"
  }
 },
 "nbformat": 4,
 "nbformat_minor": 1
}
