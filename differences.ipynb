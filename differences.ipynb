{
 "cells": [
  {
   "cell_type": "markdown",
   "metadata": {},
   "source": [
    "# Noteworthy differences to Python"
   ]
  },
  {
   "cell_type": "markdown",
   "metadata": {},
   "source": [
    "Coming from Python, how does the experience translate to Julia? Note, also see https://docs.julialang.org/en/v1/manual/noteworthy-differences for a complete overview."
   ]
  },
  {
   "cell_type": "markdown",
   "metadata": {},
   "source": [
    "### Built in Array support\n",
    "In Python you need numpy to have arrays and their related operations. In Julia its built-in:"
   ]
  },
  {
   "cell_type": "code",
   "execution_count": 9,
   "metadata": {},
   "outputs": [
    {
     "data": {
      "text/plain": [
       "3×3 Array{Float64,2}:\n",
       " 0.504845   0.559678   0.535685\n",
       " 0.35689    0.268418   0.256252\n",
       " 0.0179004  0.0742589  0.270605"
      ]
     },
     "execution_count": 9,
     "metadata": {},
     "output_type": "execute_result"
    }
   ],
   "source": [
    "# Vector of [1,1,1,1,1]\n",
    "ones(5)\n",
    "\n",
    "# Random two dimensional matrix\n",
    "nine = rand(3,3)"
   ]
  },
  {
   "cell_type": "markdown",
   "metadata": {},
   "source": [
    "### Usage of `end` statement\n",
    "In Python the loop is ended by indentation:\n",
    "\n",
    "```python\n",
    "for x in collection:\n",
    "    something()\n",
    "\n",
    "# end of loop\n",
    "```"
   ]
  },
  {
   "cell_type": "markdown",
   "metadata": {},
   "source": [
    "While in Julia, you need to explicitly end the loop. The same goes for `function`s, `while`s, `if`s and `else`s and similar constructs:"
   ]
  },
  {
   "cell_type": "code",
   "execution_count": 6,
   "metadata": {},
   "outputs": [
    {
     "name": "stderr",
     "output_type": "stream",
     "text": [
      "┌ Info: This seems a sensible result\n",
      "└ @ Main In[6]:12\n"
     ]
    }
   ],
   "source": [
    "function square(number::Int)\n",
    "    number^2\n",
    "end\n",
    "\n",
    "for x ∈ 1:10\n",
    "    square(x)\n",
    "end\n",
    "\n",
    "if 1 > 10\n",
    "    println(\"What?!\")\n",
    "else\n",
    "    @info \"This seems a sensible result\"\n",
    "end"
   ]
  },
  {
   "cell_type": "markdown",
   "metadata": {},
   "source": [
    "Note that you also don't need the `:` character from Python."
   ]
  },
  {
   "cell_type": "markdown",
   "metadata": {},
   "source": [
    "### Indexing"
   ]
  }
 ],
 "metadata": {
  "kernelspec": {
   "display_name": "Julia 1.4.0",
   "language": "julia",
   "name": "julia-1.4"
  },
  "language_info": {
   "file_extension": ".jl",
   "mimetype": "application/julia",
   "name": "julia",
   "version": "1.4.1"
  }
 },
 "nbformat": 4,
 "nbformat_minor": 4
}
