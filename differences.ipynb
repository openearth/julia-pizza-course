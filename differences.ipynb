{
 "cells": [
  {
   "cell_type": "markdown",
   "metadata": {},
   "source": [
    "# Noteworthy differences to Python"
   ]
  },
  {
   "cell_type": "markdown",
   "metadata": {},
   "source": [
    "Coming from Python, how does the experience translate to Julia? Note, also see https://docs.julialang.org/en/v1/manual/noteworthy-differences for a complete overview. Please keep the manual next https://docs.julialang.org/en/v1/manual to this course and try to use the ? help function in the "
   ]
  },
  {
   "cell_type": "markdown",
   "metadata": {},
   "source": [
    "### Difference between single and double quotes\n",
    "There's a difference between ' and \" quotes in Julia, whereas in Python they can both be used for strings. In Julia the single quote is used for characters."
   ]
  },
  {
   "cell_type": "code",
   "execution_count": 26,
   "metadata": {},
   "outputs": [
    {
     "name": "stdout",
     "output_type": "stream",
     "text": [
      "Char\n",
      "String\n",
      "a string with odd \" characters '... \n"
     ]
    },
    {
     "ename": "LoadError",
     "evalue": "syntax: invalid character literal",
     "output_type": "error",
     "traceback": [
      "syntax: invalid character literal",
      ""
     ]
    }
   ],
   "source": [
    "println(typeof('a'))\n",
    "println(typeof(\"bb\"))\n",
    "println(\"\"\"a string with odd \" characters '... \"\"\")\n",
    "'tryout'"
   ]
  },
  {
   "cell_type": "markdown",
   "metadata": {},
   "source": [
    "### Built in Array support\n",
    "In Python you need numpy to have arrays and their related operations. In Julia its built-in:"
   ]
  },
  {
   "cell_type": "code",
   "execution_count": 9,
   "metadata": {},
   "outputs": [
    {
     "data": {
      "text/plain": [
       "3×3 Array{Float64,2}:\n",
       " 0.504845   0.559678   0.535685\n",
       " 0.35689    0.268418   0.256252\n",
       " 0.0179004  0.0742589  0.270605"
      ]
     },
     "execution_count": 9,
     "metadata": {},
     "output_type": "execute_result"
    }
   ],
   "source": [
    "# Vector of [1,1,1,1,1]\n",
    "ones(5)\n",
    "\n",
    "# Random two dimensional matrix\n",
    "nine = rand(3,3)"
   ]
  },
  {
   "cell_type": "markdown",
   "metadata": {},
   "source": [
    "Note however that the order of columns and rows is different than what you're used to. Multidimensional arrays in Julia are stored in column-major order:"
   ]
  },
  {
   "cell_type": "code",
   "execution_count": 8,
   "metadata": {},
   "outputs": [
    {
     "data": {
      "text/plain": [
       "2×2 Array{Int64,2}:\n",
       " 1  2\n",
       " 3  4"
      ]
     },
     "execution_count": 8,
     "metadata": {},
     "output_type": "execute_result"
    }
   ],
   "source": [
    "x = [1 2; 3 4]"
   ]
  },
  {
   "cell_type": "code",
   "execution_count": 9,
   "metadata": {},
   "outputs": [
    {
     "data": {
      "text/plain": [
       "4-element Array{Int64,1}:\n",
       " 1\n",
       " 3\n",
       " 2\n",
       " 4"
      ]
     },
     "execution_count": 9,
     "metadata": {},
     "output_type": "execute_result"
    }
   ],
   "source": [
    "x[:]"
   ]
  },
  {
   "cell_type": "markdown",
   "metadata": {},
   "source": [
    "### Missing support\n",
    "Whereas in Python you would use the numpy masking function, Julia has a built-in Missing type for this. It corresponds to the `NULL` from SQL or `NA` in R. It propagates through the use of normal math functions."
   ]
  },
  {
   "cell_type": "code",
   "execution_count": 10,
   "metadata": {},
   "outputs": [
    {
     "data": {
      "text/plain": [
       "2-element Array{Union{Missing, Int64},1}:\n",
       " 1\n",
       "  missing"
      ]
     },
     "execution_count": 10,
     "metadata": {},
     "output_type": "execute_result"
    }
   ],
   "source": [
    "A = [1, missing]"
   ]
  },
  {
   "cell_type": "code",
   "execution_count": 11,
   "metadata": {},
   "outputs": [
    {
     "data": {
      "text/plain": [
       "2-element Array{Union{Missing, Int64},1}:\n",
       " 2\n",
       "  missing"
      ]
     },
     "execution_count": 11,
     "metadata": {},
     "output_type": "execute_result"
    }
   ],
   "source": [
    "A .* 2"
   ]
  },
  {
   "cell_type": "markdown",
   "metadata": {},
   "source": [
    "### Usage of `end` statement\n",
    "In Python the loop is ended by indentation:\n",
    "\n",
    "```python\n",
    "for x in collection:\n",
    "    something()\n",
    "\n",
    "# end of loop\n",
    "```"
   ]
  },
  {
   "cell_type": "markdown",
   "metadata": {},
   "source": [
    "While in Julia, you need to explicitly end the loop. The same goes for `function`s, `while`s, `if`s and `else`s and similar constructs:"
   ]
  },
  {
   "cell_type": "code",
   "execution_count": 6,
   "metadata": {},
   "outputs": [
    {
     "name": "stderr",
     "output_type": "stream",
     "text": [
      "┌ Info: This seems a sensible result\n",
      "└ @ Main In[6]:12\n"
     ]
    }
   ],
   "source": [
    "function square(number::Int)\n",
    "    number^2\n",
    "end\n",
    "\n",
    "for x ∈ 1:10\n",
    "    square(x)\n",
    "end\n",
    "\n",
    "if 1 > 10\n",
    "    println(\"What?!\")\n",
    "else\n",
    "    @info \"This seems a sensible result\"\n",
    "end"
   ]
  },
  {
   "cell_type": "markdown",
   "metadata": {},
   "source": [
    "Note that you also don't need the `:` character from Python."
   ]
  },
  {
   "cell_type": "markdown",
   "metadata": {},
   "source": [
    "### Indexing\n",
    "Depending on which language you come from, this can be odd, Julia uses one based indexing, just like Fortran. But unlike C and C-like languages such as Python. However, there are options to override this and have custom indexing, not only 0 based, but also custom loops etc."
   ]
  },
  {
   "cell_type": "code",
   "execution_count": 4,
   "metadata": {},
   "outputs": [
    {
     "name": "stdout",
     "output_type": "stream",
     "text": [
      "1\n",
      "3\n",
      "[1, 2, 3]\n"
     ]
    },
    {
     "ename": "BoundsError",
     "evalue": "BoundsError: attempt to access 3-element Array{Int64,1} at index [0]",
     "output_type": "error",
     "traceback": [
      "BoundsError: attempt to access 3-element Array{Int64,1} at index [0]",
      "",
      "Stacktrace:",
      " [1] getindex(::Array{Int64,1}, ::Int64) at ./array.jl:788",
      " [2] top-level scope at In[4]:5"
     ]
    }
   ],
   "source": [
    "a = [1,2,3]\n",
    "println(a[1])\n",
    "println(a[end])\n",
    "println(a[1:3])\n",
    "\n",
    "a[0]"
   ]
  },
  {
   "cell_type": "markdown",
   "metadata": {},
   "source": [
    "## Excercises\n",
    "We give a few problems here to try out, in a few minutes we'll provide our answers to them. Note that you could share them using [repl.it](repl.it) and generating a link there. In that way we can help you with your problems."
   ]
  },
  {
   "cell_type": "code",
   "execution_count": 12,
   "metadata": {},
   "outputs": [
    {
     "ename": "MethodError",
     "evalue": "MethodError: no method matching *(::Int64, ::Char)\nClosest candidates are:\n  *(::Any, ::Any, !Matched::Any, !Matched::Any...) at operators.jl:529\n  *(::T, !Matched::T) where T<:Union{Int128, Int16, Int32, Int64, Int8, UInt128, UInt16, UInt32, UInt64, UInt8} at int.jl:54\n  *(::Union{Int16, Int32, Int64, Int8}, !Matched::BigInt) at gmp.jl:535\n  ...",
     "output_type": "error",
     "traceback": [
      "MethodError: no method matching *(::Int64, ::Char)\nClosest candidates are:\n  *(::Any, ::Any, !Matched::Any, !Matched::Any...) at operators.jl:529\n  *(::T, !Matched::T) where T<:Union{Int128, Int16, Int32, Int64, Int8, UInt128, UInt16, UInt32, UInt64, UInt8} at int.jl:54\n  *(::Union{Int16, Int32, Int64, Int8}, !Matched::BigInt) at gmp.jl:535\n  ...",
      "",
      "Stacktrace:",
      " [1] top-level scope at In[12]:1"
     ]
    }
   ],
   "source": []
  },
  {
   "cell_type": "code",
   "execution_count": null,
   "metadata": {},
   "outputs": [],
   "source": []
  }
 ],
 "metadata": {
  "kernelspec": {
   "display_name": "Julia 1.4.0",
   "language": "julia",
   "name": "julia-1.4"
  },
  "language_info": {
   "file_extension": ".jl",
   "mimetype": "application/julia",
   "name": "julia",
   "version": "1.4.1"
  }
 },
 "nbformat": 4,
 "nbformat_minor": 4
}
