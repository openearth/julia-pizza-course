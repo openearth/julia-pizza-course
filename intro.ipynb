{
 "cells": [
  {
   "cell_type": "markdown",
   "metadata": {},
   "source": [
    "# Introduction: What is Julia"
   ]
  },
  {
   "cell_type": "markdown",
   "metadata": {},
   "source": [
    "Julia is a high-level, high-performance, dynamic programming language well-suited for high-performance numerical analysis and computational science. Or, as stated by its makers; [..] each [programming language] is perfect for some aspects of the work and terrible for others. Each one is a trade-off."
   ]
  },
  {
   "cell_type": "markdown",
   "metadata": {},
   "source": [
    ">**We are greedy: we want more.**\n",
    ">We want a language that's open source, with a liberal license. We want the speed of C with the dynamism of Ruby. We want a language that's homoiconic, with true macros like Lisp, but with obvious, familiar mathematical notation like Matlab. We want something as usable for general programming as Python, as easy for statistics as R, as natural for string processing as Perl, as powerful for linear algebra as Matlab, as good at gluing programs together as the shell. Something that is dirt simple to learn, yet keeps the most serious hackers happy. We want it interactive and we want it compiled."
   ]
  },
  {
   "cell_type": "markdown",
   "metadata": {},
   "source": [
    "- Made in 2009 at MIT by Jeff Bezanson, Stefan Karpinski, Viral B. Shah, and Alan Edelman.\n",
    "- First released in 2012, v1.0 release in 2018. Currently at v1.4.2.\n",
    "- Open MIT license, developed on Github, currently at 47k commits, almost a 1000 contributors and 27k stars."
   ]
  },
  {
   "cell_type": "markdown",
   "metadata": {},
   "source": [
    "## Features"
   ]
  },
  {
   "cell_type": "markdown",
   "metadata": {},
   "source": [
    "---\n",
    "Julia is a dynamically typed language, like Matlab or Python, so it will try to figure out the correct types on the fly. You *can* however specify types which enable more speedups and other language features."
   ]
  },
  {
   "cell_type": "code",
   "execution_count": 5,
   "metadata": {},
   "outputs": [
    {
     "data": {
      "text/plain": [
       "test (generic function with 2 methods)"
      ]
     },
     "execution_count": 5,
     "metadata": {},
     "output_type": "execute_result"
    }
   ],
   "source": [
    "function test(a, b)\n",
    "    a^b\n",
    "end\n",
    "function test(a::Int, b::Int)\n",
    "    a^b::Int  # this isn't required here as it is inferred\n",
    "end"
   ]
  },
  {
   "cell_type": "markdown",
   "metadata": {},
   "source": [
    "---\n",
    "User-defined types are as fast and compact as built-ins. This means that creating your own types is fully supported and with a few lines can be  understood by the ecosystem."
   ]
  },
  {
   "cell_type": "code",
   "execution_count": 1,
   "metadata": {},
   "outputs": [
    {
     "data": {
      "text/plain": [
       "Measurement(3.0, 0.30000000000000004)"
      ]
     },
     "execution_count": 1,
     "metadata": {},
     "output_type": "execute_result"
    }
   ],
   "source": [
    "struct Measurement\n",
    "    val::Float64\n",
    "    err::Float64\n",
    "end\n",
    "Base.:*(m::Measurement, other::Number) = Measurement(m.val * other, m.err * other)\n",
    "Measurement(1.0, 0.1) * 3.0"
   ]
  },
  {
   "cell_type": "markdown",
   "metadata": {},
   "source": [
    "---\n",
    "Call C or Fortran functions directly (no wrappers or special APIs needed). Many of the types are identical, so they can be load/cast without copies. Python interopability is also supported with PyCall.jl"
   ]
  },
  {
   "cell_type": "code",
   "execution_count": 16,
   "metadata": {},
   "outputs": [
    {
     "data": {
      "text/plain": [
       "15107398"
      ]
     },
     "execution_count": 16,
     "metadata": {},
     "output_type": "execute_result"
    }
   ],
   "source": [
    "ccall(:clock, Int32, ())  # TODO what example can we use on Windows?"
   ]
  },
  {
   "cell_type": "markdown",
   "metadata": {},
   "source": [
    "---\n",
    "Efficient support for Unicode, including but not limited to UTF-8. This means you could just type your equations without unclear renaming."
   ]
  },
  {
   "cell_type": "code",
   "execution_count": 14,
   "metadata": {},
   "outputs": [
    {
     "data": {
      "text/plain": [
       "π = 3.1415926535897..."
      ]
     },
     "execution_count": 14,
     "metadata": {},
     "output_type": "execute_result"
    }
   ],
   "source": [
    "for i ∈ 1:10\n",
    "    σ = √(i * ℯ)\n",
    "end\n",
    "π  # you can go too far... 😜"
   ]
  },
  {
   "cell_type": "markdown",
   "metadata": {},
   "source": [
    "---\n",
    "No need to vectorize code for performance; devectorized code is fast. Just write out your ```for``` loops."
   ]
  },
  {
   "cell_type": "code",
   "execution_count": 2,
   "metadata": {},
   "outputs": [
    {
     "name": "stdout",
     "output_type": "stream",
     "text": [
      "  0.027632 seconds\n"
     ]
    },
    {
     "data": {
      "text/plain": [
       "1.6448340718480652"
      ]
     },
     "execution_count": 2,
     "metadata": {},
     "output_type": "execute_result"
    }
   ],
   "source": [
    "function pisum()\n",
    "    sum = 0.0\n",
    "    for j = 1:500\n",
    "        sum = 0.0\n",
    "        for k = 1:10000\n",
    "            sum += 1.0/(k*k)\n",
    "        end\n",
    "    end\n",
    "    sum\n",
    "end\n",
    "@time pisum()  # note that you want to precompile functions and you need a proper benchmark, please use BenchmarkTools"
   ]
  },
  {
   "cell_type": "markdown",
   "metadata": {},
   "source": [
    "---\n",
    "A built in package manager. This prevents the need for many distributions and or tools such as anaconda and pip."
   ]
  },
  {
   "cell_type": "code",
   "execution_count": 4,
   "metadata": {},
   "outputs": [
    {
     "name": "stderr",
     "output_type": "stream",
     "text": [
      "\u001b[32m\u001b[1m   Updating\u001b[22m\u001b[39m registry at `~/.julia/registries/General`\n"
     ]
    },
    {
     "name": "stdout",
     "output_type": "stream",
     "text": [
      "\u001b[?25l\u001b[2K"
     ]
    },
    {
     "name": "stderr",
     "output_type": "stream",
     "text": [
      "\u001b[32m\u001b[1m   Updating\u001b[22m\u001b[39m git-repo `https://github.com/JuliaRegistries/General.git`\n"
     ]
    },
    {
     "name": "stdout",
     "output_type": "stream",
     "text": [
      "\u001b[?25h"
     ]
    },
    {
     "name": "stderr",
     "output_type": "stream",
     "text": [
      "\u001b[32m\u001b[1m  Resolving\u001b[22m\u001b[39m package versions...\n",
      "\u001b[32m\u001b[1m   Updating\u001b[22m\u001b[39m `~/.julia/environments/v1.4/Project.toml`\n",
      "\u001b[90m [no changes]\u001b[39m\n",
      "\u001b[32m\u001b[1m   Updating\u001b[22m\u001b[39m `~/.julia/environments/v1.4/Manifest.toml`\n",
      "\u001b[90m [no changes]\u001b[39m\n"
     ]
    }
   ],
   "source": [
    "] add BenchmarkTools"
   ]
  },
  {
   "cell_type": "markdown",
   "metadata": {},
   "source": [
    "## Use\n",
    "Julia is used by many companies around the world. Noticable uses include financial analysis by investors/banks. Of interest to us is the Celeste project in 2017 where Julia was used or astronomical analysis to achieve 1.54 petaFLOPS using 1.3million threads on a supercomputer. And the \n",
    "Climate Modeling Alliance (CLIMA) who use Julia for their next-gen global climate model.\n",
    "\n"
   ]
  },
  {
   "cell_type": "markdown",
   "metadata": {},
   "source": [
    "At Deltares, Julia was first tried out when working on large scale pointclouds by Martijn. Python was too slow, but C++ was a step too far. The language was still in its infancy, so there were some issues, but it generally worked well and enabled us to process the billions of points for our project in Indonesia. The used and generated packages are now part of JuliaGeo: https://juliageo.org/, with geospatial libraries linked such as GDAL, GEOS, Proj etc."
   ]
  },
  {
   "cell_type": "markdown",
   "metadata": {},
   "source": [
    "Nowadays there are several projects that use Julia:\n",
    "- ET/SO Research to develop groundwater flow model on GPU (Martijn Russcher)\n",
    "- New generation Wflow for hydrological simulations (Martijn Visser) https://github.com/Deltares/Wflow.jl\n",
    "- SO Research for Digital Terrain Modelling (DTM) generation (Maarten Pronk)"
   ]
  },
  {
   "cell_type": "markdown",
   "metadata": {},
   "source": [
    "## When to use\n",
    "This Pizza course aims at giving you a good introduction to Julia and to understand when you could choose to use it. We do not propose you dump Python, Matlab, Fortran or C++ now (well, maybe Matlab). As described above, we think the clear use case for Julia is technical computing. Domain specific programs that require High Performance Computing (HPC).\n",
    "\n",
    "We still use Python a lot for simple scripts or webservices and advise you to keep doing that."
   ]
  },
  {
   "cell_type": "code",
   "execution_count": null,
   "metadata": {},
   "outputs": [],
   "source": []
  }
 ],
 "metadata": {
  "kernelspec": {
   "display_name": "Julia 1.4.0",
   "language": "julia",
   "name": "julia-1.4"
  },
  "language_info": {
   "file_extension": ".jl",
   "mimetype": "application/julia",
   "name": "julia",
   "version": "1.4.1"
  }
 },
 "nbformat": 4,
 "nbformat_minor": 4
}
