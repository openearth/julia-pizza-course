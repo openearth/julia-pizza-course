{
 "cells": [
  {
   "cell_type": "markdown",
   "metadata": {},
   "source": [
    "# Introduction: What is Julia"
   ]
  },
  {
   "cell_type": "markdown",
   "metadata": {},
   "source": [
    "Julia is a high-level, high-performance, dynamic programming language well-suited for high-performance numerical analysis and computational science. Or, as stated by its makers; [..] each [programming language] is perfect for some aspects of the work and terrible for others. Each one is a trade-off."
   ]
  },
  {
   "cell_type": "markdown",
   "metadata": {},
   "source": [
    ">**We are greedy: we want more.**\n",
    ">We want a language that's open source, with a liberal license. We want the speed of C with the dynamism of Ruby. We want a language that's homoiconic, with true macros like Lisp, but with obvious, familiar mathematical notation like Matlab. We want something as usable for general programming as Python, as easy for statistics as R, as natural for string processing as Perl, as powerful for linear algebra as Matlab, as good at gluing programs together as the shell. Something that is dirt simple to learn, yet keeps the most serious hackers happy. We want it interactive and we want it compiled."
   ]
  },
  {
   "cell_type": "markdown",
   "metadata": {},
   "source": [
    "- Made in 2009 at MIT by Jeff Bezanson, Stefan Karpinski, Viral B. Shah, and Alan Edelman.\n",
    "- First released in 2012, v1.0 release in 2018. Currently at v1.4.2.\n",
    "- Open MIT license, developed on Github, currently at 47k commits, almost a 1000 contributors and 27k stars.\n"
   ]
  },
  {
   "cell_type": "markdown",
   "metadata": {},
   "source": [
    "## Features"
   ]
  },
  {
   "cell_type": "markdown",
   "metadata": {},
   "source": [
    "---\n",
    "Julia is a dynamically typed language, like Matlab or Python, so it will try to figure out the correct types on the fly. You *can* however specify types which enable more speedups and other language features."
   ]
  },
  {
   "cell_type": "code",
   "execution_count": 24,
   "metadata": {},
   "outputs": [
    {
     "data": {
      "text/plain": [
       "exp"
      ]
     },
     "execution_count": 24,
     "metadata": {},
     "output_type": "execute_result"
    }
   ],
   "source": [
    "function exp(a, b)\n",
    "    a^b\n",
    "end\n",
    "\n",
    "\"\"\"Special case for `exp` handling of Integers.\"\"\"\n",
    "function exp(a::Integer, b::Integer)\n",
    "    # special sauce here\n",
    "    a^b::Integer  # this isn't required here as it is inferred\n",
    "end"
   ]
  },
  {
   "cell_type": "code",
   "execution_count": 25,
   "metadata": {},
   "outputs": [
    {
     "name": "stdout",
     "output_type": "stream",
     "text": [
      "search: \u001b[0m\u001b[1me\u001b[22m\u001b[0m\u001b[1mx\u001b[22m\u001b[0m\u001b[1mp\u001b[22m \u001b[0m\u001b[1me\u001b[22m\u001b[0m\u001b[1mx\u001b[22m\u001b[0m\u001b[1mp\u001b[22m2 \u001b[0m\u001b[1mE\u001b[22m\u001b[0m\u001b[1mx\u001b[22m\u001b[0m\u001b[1mp\u001b[22mr \u001b[0m\u001b[1me\u001b[22m\u001b[0m\u001b[1mx\u001b[22m\u001b[0m\u001b[1mp\u001b[22mm1 \u001b[0m\u001b[1me\u001b[22m\u001b[0m\u001b[1mx\u001b[22m\u001b[0m\u001b[1mp\u001b[22m10 \u001b[0m\u001b[1me\u001b[22m\u001b[0m\u001b[1mx\u001b[22m\u001b[0m\u001b[1mp\u001b[22mort \u001b[0m\u001b[1me\u001b[22m\u001b[0m\u001b[1mx\u001b[22m\u001b[0m\u001b[1mp\u001b[22monent \u001b[0m\u001b[1me\u001b[22m\u001b[0m\u001b[1mx\u001b[22m\u001b[0m\u001b[1mp\u001b[22manduser \u001b[0m\u001b[1mE\u001b[22m\u001b[0m\u001b[1mx\u001b[22m\u001b[0m\u001b[1mp\u001b[22monentialBackOff\n",
      "\n"
     ]
    },
    {
     "data": {
      "text/latex": [
       "Special case for \\texttt{exp} handling of Integers.\n",
       "\n"
      ],
      "text/markdown": [
       "Special case for `exp` handling of Integers.\n"
      ],
      "text/plain": [
       "  Special case for \u001b[36mexp\u001b[39m handling of Integers."
      ]
     },
     "execution_count": 25,
     "metadata": {},
     "output_type": "execute_result"
    }
   ],
   "source": [
    "?exp"
   ]
  },
  {
   "cell_type": "markdown",
   "metadata": {},
   "source": [
    "---\n",
    "User-defined types are as fast and compact as built-ins. This means that creating your own types is fully supported and with a few lines can be  understood by the ecosystem."
   ]
  },
  {
   "cell_type": "code",
   "execution_count": 26,
   "metadata": {},
   "outputs": [
    {
     "data": {
      "text/plain": [
       "Measurement(2.0, 0.2)"
      ]
     },
     "execution_count": 26,
     "metadata": {},
     "output_type": "execute_result"
    }
   ],
   "source": [
    "struct Measurement\n",
    "    val::Float64\n",
    "    err::Float64\n",
    "end\n",
    "Base.:*(m::Measurement, other::Number) = Measurement(m.val * other, m.err * other)\n",
    "Measurement(1.0, 0.1) * 2.0"
   ]
  },
  {
   "cell_type": "markdown",
   "metadata": {},
   "source": [
    "---\n",
    "Call C or Fortran functions directly (no wrappers or special APIs needed). Many of the types are identical, so they can be load/cast without copies. Python interopability is also supported with PyCall.jl"
   ]
  },
  {
   "cell_type": "code",
   "execution_count": 27,
   "metadata": {},
   "outputs": [
    {
     "data": {
      "text/plain": [
       "121113300"
      ]
     },
     "execution_count": 27,
     "metadata": {},
     "output_type": "execute_result"
    }
   ],
   "source": [
    "ccall(:clock, Int32, ())"
   ]
  },
  {
   "cell_type": "markdown",
   "metadata": {},
   "source": [
    "---\n",
    "Efficient support for Unicode, including but not limited to UTF-8. This means you could just type your equations without unclear renaming."
   ]
  },
  {
   "cell_type": "code",
   "execution_count": 28,
   "metadata": {},
   "outputs": [
    {
     "name": "stdout",
     "output_type": "stream",
     "text": [
      "3.141592653589793\n"
     ]
    },
    {
     "data": {
      "text/plain": [
       "6"
      ]
     },
     "execution_count": 28,
     "metadata": {},
     "output_type": "execute_result"
    }
   ],
   "source": [
    "# use actual example\n",
    "using Statistics\n",
    "values = [1,2,3,4,5]\n",
    "√(sum((values .- mean(values)).^2) / (length(values) - 1))\n",
    "\n",
    "println(π * 1.0)\n",
    "\n",
    "🎲() = rand(1:6)  # you can go too far... 😜\n",
    "🎲()"
   ]
  },
  {
   "cell_type": "markdown",
   "metadata": {},
   "source": [
    "---\n",
    "No need to vectorize code for performance; devectorized code is fast. Just write out your ```for``` loops."
   ]
  },
  {
   "cell_type": "code",
   "execution_count": 29,
   "metadata": {},
   "outputs": [
    {
     "name": "stdout",
     "output_type": "stream",
     "text": [
      "  0.020972 seconds\n"
     ]
    },
    {
     "data": {
      "text/plain": [
       "pisumvec (generic function with 1 method)"
      ]
     },
     "execution_count": 29,
     "metadata": {},
     "output_type": "execute_result"
    }
   ],
   "source": [
    "# Give also the vectorized notation\n",
    "\n",
    "function pisum()\n",
    "    sum = 0.0\n",
    "    for j = 1:500\n",
    "        sum = 0.0\n",
    "        for k = 1:10000\n",
    "            sum += 1.0/(k*k)\n",
    "        end\n",
    "    end\n",
    "    sum\n",
    "end\n",
    "@time pisum()  # note that you want to precompile functions and you need a proper benchmark, please use BenchmarkTools\n",
    "\n",
    "# For completeness, the vectorized notation\n",
    "function pisumvec()\n",
    "    s = 0.0\n",
    "    a = [1:10000]\n",
    "    for j = 1:500\n",
    "        s = sum(1 ./ (a.^2))\n",
    "    end\n",
    "    s\n",
    "end"
   ]
  },
  {
   "cell_type": "markdown",
   "metadata": {},
   "source": [
    "---\n",
    "Full support for Multi-Dimensional Arrays. Unlike Python, which needs Numpy for arrays (itself built in Fortran btw), Julia support multi-dimensional arrays out of the box."
   ]
  },
  {
   "cell_type": "code",
   "execution_count": 30,
   "metadata": {},
   "outputs": [
    {
     "data": {
      "text/plain": [
       "5-element Array{Int64,1}:\n",
       "  1\n",
       "  4\n",
       "  9\n",
       " 16\n",
       " 25"
      ]
     },
     "execution_count": 30,
     "metadata": {},
     "output_type": "execute_result"
    }
   ],
   "source": [
    "A = rand(5)  # random\n",
    "B = ones(5,2,3)  # 5x2x3 array of 1s\n",
    "C = Matrix(undef, 5, 5)  # initialize without (re)setting memory values\n",
    "\n",
    "[1,2,3,4,5] .* [1,2,3,4,5]"
   ]
  },
  {
   "cell_type": "markdown",
   "metadata": {},
   "source": [
    "---\n",
    "Lisp-like macros and other metaprogramming facilities. Julia represents its own code as a data structure of the language itself. This enables macros, but in the end *anything* you can think of. We've used it to generate thousands of lines of code that would normally have to be handwritten. It's really programming your programming.\n"
   ]
  },
  {
   "cell_type": "code",
   "execution_count": 33,
   "metadata": {},
   "outputs": [
    {
     "name": "stdout",
     "output_type": "stream",
     "text": [
      "Expr 1 + 1\n",
      "call\n",
      "Any[:+, 1, 1]\n"
     ]
    },
    {
     "data": {
      "text/plain": [
       "true"
      ]
     },
     "execution_count": 33,
     "metadata": {},
     "output_type": "execute_result"
    }
   ],
   "source": [
    "# Everything's a string first\n",
    "prog = \"1 + 1\"\n",
    "ex1 = Meta.parse(prog)\n",
    "println(\"$(typeof(ex1)) $ex1\")\n",
    "\n",
    "# An expression has a head and args\n",
    "println(ex1.head)\n",
    "println(ex1.args)\n",
    "\n",
    "# You can create this yourself as well\n",
    "ex2 = Expr(:call, :+, 1, 1)\n",
    "ex2 == ex1"
   ]
  },
  {
   "cell_type": "markdown",
   "metadata": {},
   "source": [
    "---\n",
    "A built in package manager. This prevents the need for many distributions and or tools such as anaconda and pip."
   ]
  },
  {
   "cell_type": "code",
   "execution_count": 35,
   "metadata": {},
   "outputs": [
    {
     "name": "stdout",
     "output_type": "stream",
     "text": [
      "\u001b[32m\u001b[1mStatus\u001b[22m\u001b[39m `~/.julia/environments/v1.4/Project.toml`\n",
      " \u001b[90m [12f4821f]\u001b[39m\u001b[37m AMDGPUnative v0.1.0\u001b[39m\n",
      " \u001b[90m [4f1ea46c]\u001b[39m\u001b[37m AWSCore v0.6.11\u001b[39m\n",
      " \u001b[90m [1c724243]\u001b[39m\u001b[37m AWSS3 v0.6.12\u001b[39m\n",
      " \u001b[90m [c7e460c6]\u001b[39m\u001b[37m ArgParse v1.1.0\u001b[39m\n",
      " \u001b[90m [6e4b80f9]\u001b[39m\u001b[37m BenchmarkTools v0.5.0\u001b[39m\n",
      " \u001b[90m [12aac903]\u001b[39m\u001b[37m BinaryBuilder v0.2.4\u001b[39m\n",
      " \u001b[90m [b99e7846]\u001b[39m\u001b[37m BinaryProvider v0.5.10\u001b[39m\n",
      " \u001b[90m [35d6a980]\u001b[39m\u001b[37m ColorSchemes v3.9.0\u001b[39m\n",
      " \u001b[90m [3da002f7]\u001b[39m\u001b[37m ColorTypes v0.10.3\u001b[39m\n",
      " \u001b[90m [5ae59095]\u001b[39m\u001b[37m Colors v0.12.1\u001b[39m\n",
      " \u001b[90m [34da2185]\u001b[39m\u001b[37m Compat v3.10.0\u001b[39m\n",
      " \u001b[90m [150eb455]\u001b[39m\u001b[37m CoordinateTransformations v0.5.1\u001b[39m\n",
      " \u001b[90m [429591f6]\u001b[39m\u001b[37m ExactPredicates v2.2.0\u001b[39m\n",
      " \u001b[90m [5789e2e9]\u001b[39m\u001b[37m FileIO v1.3.0\u001b[39m\n",
      " \u001b[90m [53c48c17]\u001b[39m\u001b[37m FixedPointNumbers v0.8.0\u001b[39m\n",
      " \u001b[90m [add2ef01]\u001b[39m\u001b[37m GDAL v1.1.2\u001b[39m\n",
      " \u001b[90m [2fb1d81b]\u001b[39m\u001b[37m GeoArrays v0.3.0\u001b[39m\n",
      " \u001b[90m [cf35fbd7]\u001b[39m\u001b[37m GeoInterface v0.5.4\u001b[39m\n",
      " \u001b[90m [61d90e0f]\u001b[39m\u001b[37m GeoJSON v0.5.1\u001b[39m\n",
      " \u001b[90m [dcc97b0b]\u001b[39m\u001b[37m GeoStats v0.11.6\u001b[39m\n",
      " \u001b[90m [323cb8eb]\u001b[39m\u001b[37m GeoStatsBase v0.8.7\u001b[39m\n",
      " \u001b[90m [c27321d9]\u001b[39m\u001b[37m Glob v1.3.0\u001b[39m\n",
      " \u001b[90m [f67ccb44]\u001b[39m\u001b[37m HDF5 v0.13.2\u001b[39m\n",
      " \u001b[90m [cd3eb016]\u001b[39m\u001b[37m HTTP v0.8.15\u001b[39m\n",
      " \u001b[90m [7073ff75]\u001b[39m\u001b[37m IJulia v1.21.2\u001b[39m\n",
      " \u001b[90m [a09fc81d]\u001b[39m\u001b[37m ImageCore v0.8.14\u001b[39m\n",
      " \u001b[90m [6a3955dd]\u001b[39m\u001b[37m ImageFiltering v0.6.11\u001b[39m\n",
      " \u001b[90m [916415d5]\u001b[39m\u001b[37m Images v0.22.2\u001b[39m\n",
      " \u001b[90m [6a8e3230]\u001b[39m\u001b[37m InverseDistanceWeighting v0.3.5\u001b[39m\n",
      " \u001b[90m [682c06a0]\u001b[39m\u001b[37m JSON v0.21.0\u001b[39m\n",
      " \u001b[90m [d293930c]\u001b[39m\u001b[37m KrigingEstimators v0.3.6\u001b[39m\n",
      " \u001b[90m [570499db]\u001b[39m\u001b[37m LasIO v0.3.6\u001b[39m\n",
      " \u001b[90m [c3605908]\u001b[39m\u001b[37m LazIO v0.2.0\u001b[39m\n",
      " \u001b[90m [a90b1aa1]\u001b[39m\u001b[37m LibGEOS v0.6.4\u001b[39m\n",
      " \u001b[90m [b8a86587]\u001b[39m\u001b[37m NearestNeighbors v0.4.4\u001b[39m\n",
      " \u001b[90m [4d1e1d77]\u001b[39m\u001b[37m Nullables v1.0.0\u001b[39m\n",
      " \u001b[90m [91a5bcdd]\u001b[39m\u001b[37m Plots v1.3.4\u001b[39m\n",
      " \u001b[90m [971589f2]\u001b[39m\u001b[37m PointCloudRasterizers v0.1.0 #master (git@github.com:Deltares/PointCloudRasterizers.jl.git)\u001b[39m\n",
      " \u001b[90m [92933f4c]\u001b[39m\u001b[37m ProgressMeter v1.3.0\u001b[39m\n",
      " \u001b[90m [9a7e659c]\u001b[39m\u001b[37m Proj4 v0.7.2\u001b[39m\n",
      " \u001b[90m [438e738f]\u001b[39m\u001b[37m PyCall v1.91.4\u001b[39m\n",
      " \u001b[90m [3cdcf5f2]\u001b[39m\u001b[37m RecipesBase v1.0.1\u001b[39m\n",
      " \u001b[90m [d77cfa7a]\u001b[39m\u001b[37m RetroCap v0.2.6\u001b[39m\n",
      " \u001b[90m [295af30f]\u001b[39m\u001b[37m Revise v2.7.0\u001b[39m\n",
      " \u001b[90m [a2af1166]\u001b[39m\u001b[37m SortingAlgorithms v0.3.1\u001b[39m\n",
      " \u001b[90m [90137ffa]\u001b[39m\u001b[37m StaticArrays v0.12.3\u001b[39m\n",
      " \u001b[90m [06e1c1a7]\u001b[39m\u001b[37m TiledIteration v0.2.4\u001b[39m\n",
      " \u001b[90m [10745b16]\u001b[39m\u001b[37m Statistics \u001b[39m\n"
     ]
    }
   ],
   "source": [
    "]st"
   ]
  },
  {
   "cell_type": "markdown",
   "metadata": {},
   "source": [
    "## Use\n",
    "Julia is used by many companies around the world. Noticable uses include financial analysis by investors/banks. Of interest to us is the [Celeste](https://github.com/jeff-regier/Celeste.jl) project in 2017 where Julia was used or astronomical analysis to achieve 1.54 petaFLOPS using 1.3 million threads on a supercomputer. And the \n",
    "Climate Modeling Alliance (CLIMA) who use Julia for their next-gen global climate model [Oceananigans.jl](https://github.com/CliMA/Oceananigans.jl.).\n",
    "\n"
   ]
  },
  {
   "cell_type": "markdown",
   "metadata": {},
   "source": [
    "At Deltares, Julia was first tried out when working on large scale pointclouds by Martijn. Python was too slow, but C++ was a step too far. The language was still in its infancy, so there were some issues, but it generally worked well and enabled us to process the billions of points for our project in Indonesia. The used and generated packages are now part of JuliaGeo: https://juliageo.org/, with geospatial libraries linked such as GDAL, GEOS, Proj etc."
   ]
  },
  {
   "cell_type": "markdown",
   "metadata": {},
   "source": [
    "Nowadays there are several projects that use Julia:\n",
    "- ET/SO Research to investigate groundwater flow model on CPU/GPU with the same kernel (Martijn Russcher et. al.)\n",
    "- New generation Wflow for hydrological simulations (Willem van Verseveld, Martijn Visser) https://github.com/Deltares/Wflow.jl\n",
    "- SO Research for Digital Terrain Modelling (DTM) generation (Maarten Pronk)"
   ]
  },
  {
   "cell_type": "markdown",
   "metadata": {},
   "source": [
    "## When to use\n",
    "This Pizza course aims at giving you a good introduction to Julia and to understand when you could choose to use it. We do not propose you dump Python, Matlab, Fortran or C++ now (well, maybe Matlab). As described above, we think the clear use case for Julia is technical computing. Domain specific programs that require High Performance Computing (HPC).\n",
    "\n",
    "The main drawback of Julia is the young ecosystem, while there are multiple state of the art libraries, mainly focused on computing, the ecosystem is lacking for more general programming, compared to a language like Python.\n",
    "\n",
    "We still use Python a lot for simple scripts or webservices and advise you to keep doing that.\n"
   ]
  },
  {
   "cell_type": "markdown",
   "metadata": {},
   "source": [
    "## Excercise\n",
    "Please try to make a function that:\n",
    "- prints \"Hello World\"\n",
    "- takes a `name` argument and prints \"Hello Maarten\" if the given name is \"Maarten\"\n",
    "- takes a `name` argument but prints \"Hello World\" if the give name is empty\n",
    "\n",
    "See the manual to help you out https://docs.julialang.org/en/v1/manual/functions/"
   ]
  },
  {
   "cell_type": "code",
   "execution_count": 47,
   "metadata": {},
   "outputs": [],
   "source": [
    "# please write your function here. Shift enter or the play button above executes it"
   ]
  }
 ],
 "metadata": {
  "kernelspec": {
   "display_name": "Julia 1.4.0",
   "language": "julia",
   "name": "julia-1.4"
  },
  "language_info": {
   "file_extension": ".jl",
   "mimetype": "application/julia",
   "name": "julia",
   "version": "1.4.1"
  }
 },
 "nbformat": 4,
 "nbformat_minor": 4
}
