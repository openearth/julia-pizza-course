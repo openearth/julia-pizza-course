{
 "cells": [
  {
   "cell_type": "markdown",
   "metadata": {},
   "source": [
    "# Introduction: What is Julia"
   ]
  },
  {
   "cell_type": "markdown",
   "metadata": {},
   "source": [
    "Julia is a high-level, high-performance, dynamic programming language well-suited for high-performance numerical analysis and computational science. Or, as stated by its makers; [..] each [programming language] is perfect for some aspects of the work and terrible for others. Each one is a trade-off."
   ]
  },
  {
   "cell_type": "markdown",
   "metadata": {},
   "source": [
    ">**We are greedy: we want more.**\n",
    ">We want a language that's open source, with a liberal license. We want the speed of C with the dynamism of Ruby. We want a language that's homoiconic, with true macros like Lisp, but with obvious, familiar mathematical notation like Matlab. We want something as usable for general programming as Python, as easy for statistics as R, as natural for string processing as Perl, as powerful for linear algebra as Matlab, as good at gluing programs together as the shell. Something that is dirt simple to learn, yet keeps the most serious hackers happy. We want it interactive and we want it compiled."
   ]
  },
  {
   "cell_type": "markdown",
   "metadata": {},
   "source": [
    "- Made in 2009 at MIT by Jeff Bezanson, Stefan Karpinski, Viral B. Shah, and Alan Edelman.\n",
    "- First released in 2012, v1.0 release in 2018. Currently at v1.4.2.\n",
    "- Open MIT license, developed on Github, currently at 47k commits, almost a 1000 contributors and 27k stars.\n"
   ]
  },
  {
   "cell_type": "markdown",
   "metadata": {},
   "source": [
    "## Features"
   ]
  },
  {
   "cell_type": "markdown",
   "metadata": {},
   "source": [
    "---\n",
    "Julia is a dynamically typed language, like Matlab or Python, so it will try to figure out the correct types on the fly. You *can* however specify types which enable more speedups and other language features."
   ]
  },
  {
   "cell_type": "code",
   "execution_count": 12,
   "metadata": {},
   "outputs": [
    {
     "data": {
      "text/plain": [
       "exp"
      ]
     },
     "execution_count": 12,
     "metadata": {},
     "output_type": "execute_result"
    }
   ],
   "source": [
    "function exp(a, b)\n",
    "    a^b\n",
    "end\n",
    "\n",
    "\"\"\"Special case for exp handling of Integers.\"\"\"\n",
    "function exp(a::Integer, b::Integer)\n",
    "    # special sauce here\n",
    "    a^b::Integer  # this isn't required here as it is inferred\n",
    "end"
   ]
  },
  {
   "cell_type": "markdown",
   "metadata": {},
   "source": [
    "---\n",
    "User-defined types are as fast and compact as built-ins. This means that creating your own types is fully supported and with a few lines can be  understood by the ecosystem."
   ]
  },
  {
   "cell_type": "code",
   "execution_count": 2,
   "metadata": {},
   "outputs": [
    {
     "data": {
      "text/plain": [
       "Measurement(2.0, 0.2)"
      ]
     },
     "execution_count": 2,
     "metadata": {},
     "output_type": "execute_result"
    }
   ],
   "source": [
    "struct Measurement\n",
    "    val::Float64\n",
    "    err::Float64\n",
    "end\n",
    "Base.:*(m::Measurement, other::Number) = Measurement(m.val * other, m.err * other)\n",
    "Measurement(1.0, 0.1) * 2.0"
   ]
  },
  {
   "cell_type": "markdown",
   "metadata": {},
   "source": [
    "---\n",
    "Call C or Fortran functions directly (no wrappers or special APIs needed). Many of the types are identical, so they can be load/cast without copies. Python interopability is also supported with PyCall.jl"
   ]
  },
  {
   "cell_type": "code",
   "execution_count": 3,
   "metadata": {},
   "outputs": [
    {
     "data": {
      "text/plain": [
       "13578101"
      ]
     },
     "execution_count": 3,
     "metadata": {},
     "output_type": "execute_result"
    }
   ],
   "source": [
    "ccall(:clock, Int32, ())"
   ]
  },
  {
   "cell_type": "markdown",
   "metadata": {},
   "source": [
    "---\n",
    "Efficient support for Unicode, including but not limited to UTF-8. This means you could just type your equations without unclear renaming."
   ]
  },
  {
   "cell_type": "code",
   "execution_count": 18,
   "metadata": {},
   "outputs": [
    {
     "name": "stdout",
     "output_type": "stream",
     "text": [
      "3.141592653589793\n"
     ]
    },
    {
     "data": {
      "text/plain": [
       "2"
      ]
     },
     "execution_count": 18,
     "metadata": {},
     "output_type": "execute_result"
    }
   ],
   "source": [
    "# use actual example\n",
    "using Statistics\n",
    "values = [1,2,3,4,5]\n",
    "√(sum((values .- mean(values)).^2) / (length(values) - 1))\n",
    "\n",
    "println(π * 1.0)\n",
    "\n",
    "🎲() = rand(1:6)  # you can go too far... 😜\n",
    "🎲()"
   ]
  },
  {
   "cell_type": "markdown",
   "metadata": {},
   "source": [
    "---\n",
    "No need to vectorize code for performance; devectorized code is fast. Just write out your ```for``` loops."
   ]
  },
  {
   "cell_type": "code",
   "execution_count": 5,
   "metadata": {},
   "outputs": [
    {
     "name": "stdout",
     "output_type": "stream",
     "text": [
      "  0.023921 seconds\n"
     ]
    },
    {
     "data": {
      "text/plain": [
       "1.6448340718480652"
      ]
     },
     "execution_count": 5,
     "metadata": {},
     "output_type": "execute_result"
    },
    {
     "ename": "BoundsError",
     "evalue": "BoundsError: attempt to access String\n  at index [1:101]",
     "output_type": "error",
     "traceback": [
      "KERNEL EXCEPTION",
      "BoundsError: attempt to access String\n  at index [1:101]",
      "",
      "Stacktrace:",
      " [1] checkbounds at ./strings/basic.jl:194 [inlined]",
      " [2] getindex(::String, ::UnitRange{Int64}) at ./strings/string.jl:248",
      " [3] complete_request(::ZMQ.Socket, ::IJulia.Msg) at /Users/evetion/.julia/packages/IJulia/DrVMH/src/handlers.jl:114",
      " [4] #invokelatest#1 at ./essentials.jl:712 [inlined]",
      " [5] invokelatest at ./essentials.jl:711 [inlined]",
      " [6] eventloop(::ZMQ.Socket) at /Users/evetion/.julia/packages/IJulia/DrVMH/src/eventloop.jl:8",
      " [7] (::IJulia.var\"#15#18\")() at ./task.jl:358"
     ]
    }
   ],
   "source": [
    "# Give also the vectorized notation\n",
    "\n",
    "function pisum()\n",
    "    sum = 0.0\n",
    "    for j = 1:500\n",
    "        sum = 0.0\n",
    "        for k = 1:10000\n",
    "            sum += 1.0/(k*k)\n",
    "        end\n",
    "    end\n",
    "    sum\n",
    "end\n",
    "@time pisum()  # note that you want to precompile functions and you need a proper benchmark, please use BenchmarkTools\n",
    "\n",
    "# For completeness, the vectorized notation\n",
    "function pisumvec()\n",
    "    s = 0.0\n",
    "    a = [1:10000]\n",
    "    for j = 1:500\n",
    "        s = sum(1 ./ (a.^2))\n",
    "    end\n",
    "    s\n",
    "end"
   ]
  },
  {
   "cell_type": "markdown",
   "metadata": {},
   "source": [
    "---\n",
    "Full support for Multi-Dimensional Arrays. Unlike Python, which needs Numpy for arrays (itself built in Fortran btw), Julia support multi-dimensional arrays out of the box."
   ]
  },
  {
   "cell_type": "code",
   "execution_count": 26,
   "metadata": {},
   "outputs": [
    {
     "data": {
      "text/plain": [
       "5-element Array{Int64,1}:\n",
       "  1\n",
       "  4\n",
       "  9\n",
       " 16\n",
       " 25"
      ]
     },
     "execution_count": 26,
     "metadata": {},
     "output_type": "execute_result"
    }
   ],
   "source": [
    "A = rand(5)  # random\n",
    "B = ones(5,2,3)  # 5x2x3 array of 1s\n",
    "C = Matrix(undef, 5, 5)  # initialize without (re)setting memory values\n",
    "\n",
    "[1,2,3,4,5] .* [1,2,3,4,5]"
   ]
  },
  {
   "cell_type": "markdown",
   "metadata": {},
   "source": [
    "---\n",
    "Lisp-like macros and other metaprogramming facilities. Julia represents its own code as a data structure of the language itself. This enables macros, but in the end *anything* you can think of. We've used it to generate thousands of lines of code that would normally have to be handwritten. It's really programming your programming.\n"
   ]
  },
  {
   "cell_type": "code",
   "execution_count": 13,
   "metadata": {},
   "outputs": [
    {
     "name": "stdout",
     "output_type": "stream",
     "text": [
      "Expr 1 + 1\n",
      "call\n",
      "Any[:+, 1, 1]\n"
     ]
    },
    {
     "data": {
      "text/plain": [
       "true"
      ]
     },
     "execution_count": 13,
     "metadata": {},
     "output_type": "execute_result"
    }
   ],
   "source": [
    "# Everything's a string first\n",
    "prog = \"1 + 1\"\n",
    "ex1 = Meta.parse(prog)\n",
    "println(\"$(typeof(ex1)) $ex1\")\n",
    "\n",
    "# An expression has a head and args\n",
    "println(ex1.head)\n",
    "println(ex1.args)\n",
    "\n",
    "# You can create this yourself as well\n",
    "ex2 = Expr(:call, :+, 1, 1)\n",
    "ex2 == ex1\n",
    "\n",
    "a ∈ \\"
   ]
  },
  {
   "cell_type": "markdown",
   "metadata": {},
   "source": [
    "---\n",
    "A built in package manager. This prevents the need for many distributions and or tools such as anaconda and pip."
   ]
  },
  {
   "cell_type": "code",
   "execution_count": 8,
   "metadata": {},
   "outputs": [
    {
     "name": "stdout",
     "output_type": "stream",
     "text": [
      "  \u001b[1mWelcome to the Pkg REPL-mode\u001b[22m. To return to the \u001b[36mjulia>\u001b[39m prompt, either press\n",
      "  backspace when the input line is empty or press Ctrl+C.\n",
      "\n",
      "  \u001b[1mSynopsis\u001b[22m\n",
      "\n",
      "\u001b[36m  pkg> cmd [opts] [args]\u001b[39m\n",
      "\n",
      "  Multiple commands can be given on the same line by interleaving a \u001b[36m;\u001b[39m between\n",
      "  the commands.\n",
      "\n",
      "  \u001b[1mCommands\u001b[22m\n",
      "\n",
      "  \u001b[36mactivate\u001b[39m: set the primary environment the package manager manipulates\n",
      "\n",
      "  \u001b[36madd\u001b[39m: add packages to project\n",
      "\n",
      "  \u001b[36mbuild\u001b[39m: run the build script for packages\n",
      "\n",
      "  \u001b[36mdevelop\u001b[39m: clone the full package repo locally for development\n",
      "\n",
      "  \u001b[36mfree\u001b[39m: undoes a \u001b[36mpin\u001b[39m, \u001b[36mdevelop\u001b[39m, or stops tracking a repo\n",
      "\n",
      "  \u001b[36mgc\u001b[39m: garbage collect packages not used for a significant time\n",
      "\n",
      "  \u001b[36mgenerate\u001b[39m: generate files for a new project\n",
      "\n",
      "  \u001b[36mhelp\u001b[39m: show this message\n",
      "\n",
      "  \u001b[36minstantiate\u001b[39m: downloads all the dependencies for the project\n",
      "\n",
      "  \u001b[36mpin\u001b[39m: pins the version of packages\n",
      "\n",
      "  \u001b[36mprecompile\u001b[39m: precompile all the project dependencies\n",
      "\n",
      "  \u001b[36mredo\u001b[39m: redo the latest change to the active project\n",
      "\n",
      "  \u001b[36mremove\u001b[39m: remove packages from project or manifest\n",
      "\n",
      "  \u001b[36mresolve\u001b[39m: resolves to update the manifest from changes in dependencies of\n",
      "  developed packages\n",
      "\n",
      "  \u001b[36mstatus\u001b[39m: summarize contents of and changes to environment\n",
      "\n",
      "  \u001b[36mtest\u001b[39m: run tests for packages\n",
      "\n",
      "  \u001b[36mundo\u001b[39m: undo the latest change to the active project\n",
      "\n",
      "  \u001b[36mupdate\u001b[39m: update packages in manifest\n",
      "\n",
      "  \u001b[36mregistry add\u001b[39m: add package registries\n",
      "\n",
      "  \u001b[36mregistry remove\u001b[39m: remove package registries\n",
      "\n",
      "  \u001b[36mregistry status\u001b[39m: information about installed registries\n",
      "\n",
      "  \u001b[36mregistry update\u001b[39m: update package registries"
     ]
    }
   ],
   "source": [
    "]?"
   ]
  },
  {
   "cell_type": "markdown",
   "metadata": {},
   "source": [
    "## Use\n",
    "Julia is used by many companies around the world. Noticable uses include financial analysis by investors/banks. Of interest to us is the [Celeste](https://github.com/jeff-regier/Celeste.jl) project in 2017 where Julia was used or astronomical analysis to achieve 1.54 petaFLOPS using 1.3 million threads on a supercomputer. And the \n",
    "Climate Modeling Alliance (CLIMA) who use Julia for their next-gen global climate model [Oceananigans.jl](https://github.com/CliMA/Oceananigans.jl.).\n",
    "\n"
   ]
  },
  {
   "cell_type": "markdown",
   "metadata": {},
   "source": [
    "At Deltares, Julia was first tried out when working on large scale pointclouds by Martijn. Python was too slow, but C++ was a step too far. The language was still in its infancy, so there were some issues, but it generally worked well and enabled us to process the billions of points for our project in Indonesia. The used and generated packages are now part of JuliaGeo: https://juliageo.org/, with geospatial libraries linked such as GDAL, GEOS, Proj etc."
   ]
  },
  {
   "cell_type": "markdown",
   "metadata": {},
   "source": [
    "Nowadays there are several projects that use Julia:\n",
    "- ET/SO Research to investigate groundwater flow model on CPU/GPU with the same kernel (Martijn Russcher et. al.)\n",
    "- New generation Wflow for hydrological simulations (Willem van Verseveld, Martijn Visser) https://github.com/Deltares/Wflow.jl\n",
    "- SO Research for Digital Terrain Modelling (DTM) generation (Maarten Pronk)"
   ]
  },
  {
   "cell_type": "markdown",
   "metadata": {},
   "source": [
    "## When to use\n",
    "This Pizza course aims at giving you a good introduction to Julia and to understand when you could choose to use it. We do not propose you dump Python, Matlab, Fortran or C++ now (well, maybe Matlab). As described above, we think the clear use case for Julia is technical computing. Domain specific programs that require High Performance Computing (HPC).\n",
    "\n",
    "The main drawback of Julia is the young ecosystem, while there are multiple state of the art libraries, mainly focused on computing, the ecosystem is lacking for more general programming, compared to a language like Python.\n",
    "\n",
    "We still use Python a lot for simple scripts or webservices and advise you to keep doing that.\n"
   ]
  },
  {
   "cell_type": "markdown",
   "metadata": {},
   "source": []
  },
  {
   "cell_type": "code",
   "execution_count": null,
   "metadata": {},
   "outputs": [],
   "source": []
  }
 ],
 "metadata": {
  "kernelspec": {
   "display_name": "Julia 1.4.0",
   "language": "julia",
   "name": "julia-1.4"
  },
  "language_info": {
   "file_extension": ".jl",
   "mimetype": "application/julia",
   "name": "julia",
   "version": "1.4.1"
  }
 },
 "nbformat": 4,
 "nbformat_minor": 4
}
